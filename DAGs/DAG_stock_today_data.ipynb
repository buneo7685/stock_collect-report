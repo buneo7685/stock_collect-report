{
 "cells": [
  {
   "cell_type": "code",
   "execution_count": 1,
   "metadata": {},
   "outputs": [],
   "source": [
    "import datetime\n",
    "import time\n",
    "from airflow import DAG\n",
    "from airflow.models import Variable\n",
    "from airflow.operators.python import PythonOperator , BranchPythonOperator\n",
    "from airflow.operators.dummy import DummyOperator\n",
    "import pandas\n",
    "\n",
    "import psycopg2"
   ]
  },
  {
   "cell_type": "code",
   "execution_count": null,
   "metadata": {},
   "outputs": [],
   "source": [
    "start_date = Variable.get('DAG_STARTDATE')\n",
    "start_date = datetime.datetime.strptime(start_date + ' 09:00:00','%Y%m%d %H:%M:%S')"
   ]
  },
  {
   "cell_type": "markdown",
   "metadata": {},
   "source": [
    "# Setting"
   ]
  },
  {
   "cell_type": "markdown",
   "metadata": {},
   "source": [
    "## Arguments"
   ]
  },
  {
   "cell_type": "code",
   "execution_count": 1,
   "metadata": {},
   "outputs": [
    {
     "ename": "NameError",
     "evalue": "name 'start_date' is not defined",
     "output_type": "error",
     "traceback": [
      "\u001b[0;31m---------------------------------------------------------------------------\u001b[0m",
      "\u001b[0;31mNameError\u001b[0m                                 Traceback (most recent call last)",
      "\u001b[0;32m<ipython-input-1-be59dc246bf2>\u001b[0m in \u001b[0;36m<module>\u001b[0;34m\u001b[0m\n\u001b[1;32m      2\u001b[0m     \u001b[0;34m'owner'\u001b[0m \u001b[0;34m:\u001b[0m \u001b[0;34m'Buneo'\u001b[0m \u001b[0;34m,\u001b[0m\u001b[0;34m\u001b[0m\u001b[0;34m\u001b[0m\u001b[0m\n\u001b[1;32m      3\u001b[0m     \u001b[0;34m'depends_on_past'\u001b[0m \u001b[0;34m:\u001b[0m \u001b[0;32mFalse\u001b[0m \u001b[0;34m,\u001b[0m\u001b[0;34m\u001b[0m\u001b[0;34m\u001b[0m\u001b[0m\n\u001b[0;32m----> 4\u001b[0;31m     \u001b[0;34m'start_date'\u001b[0m \u001b[0;34m:\u001b[0m \u001b[0mstart_date\u001b[0m \u001b[0;34m,\u001b[0m\u001b[0;34m\u001b[0m\u001b[0;34m\u001b[0m\u001b[0m\n\u001b[0m\u001b[1;32m      5\u001b[0m     \u001b[0;34m'email_on_failure'\u001b[0m \u001b[0;34m:\u001b[0m \u001b[0;34m'buneostock@gmail.com'\u001b[0m \u001b[0;34m,\u001b[0m\u001b[0;34m\u001b[0m\u001b[0;34m\u001b[0m\u001b[0m\n\u001b[1;32m      6\u001b[0m     \u001b[0;34m'email_on_retry'\u001b[0m \u001b[0;34m:\u001b[0m \u001b[0;34m'buneostock@gmail.com'\u001b[0m \u001b[0;34m,\u001b[0m\u001b[0;34m\u001b[0m\u001b[0;34m\u001b[0m\u001b[0m\n",
      "\u001b[0;31mNameError\u001b[0m: name 'start_date' is not defined"
     ]
    }
   ],
   "source": [
    "args = {\n",
    "    'owner' : 'Buneo' ,\n",
    "    'depends_on_past' : False ,\n",
    "    'start_date' : start_date ,\n",
    "    'email_on_failure' : 'buneostock@gmail.com' ,\n",
    "    'email_on_retry' : 'buneostock@gmail.com' ,\n",
    "    'retreis' : 2 ,\n",
    "    'retry_delay' : datetime.timedelta(minutes = 5)\n",
    "        }\n",
    "\n",
    "dag = DAG('stock_today_data',\n",
    "          description = '' ,\n",
    "          schedule_interval = '0 9 * * 1-5',\n",
    "          default_args = args ,\n",
    "          tags = ['stock'])"
   ]
  },
  {
   "cell_type": "markdown",
   "metadata": {},
   "source": [
    "## Variables"
   ]
  },
  {
   "cell_type": "code",
   "execution_count": 3,
   "metadata": {},
   "outputs": [],
   "source": [
    "postgres_password = Variable.get(\"Postgres_password\")"
   ]
  },
  {
   "cell_type": "markdown",
   "metadata": {},
   "source": [
    "## DataBase Connection"
   ]
  },
  {
   "cell_type": "code",
   "execution_count": 4,
   "metadata": {},
   "outputs": [],
   "source": [
    "conn = psycopg2.connect(host = '127.0.0.1' , dbname = 'postgres' , user = 'postgres' , password = postgres_password)\n",
    "cur = conn.cursor()"
   ]
  },
  {
   "cell_type": "markdown",
   "metadata": {},
   "source": [
    "# WORK_DATE "
   ]
  },
  {
   "cell_type": "markdown",
   "metadata": {},
   "source": [
    "## 【 Function 】"
   ]
  },
  {
   "cell_type": "code",
   "execution_count": 5,
   "metadata": {},
   "outputs": [],
   "source": [
    "def WORK_DATE():\n",
    "# Truncate table work_date and reinsert date data\n",
    "    work_D = []\n",
    "    if datetime.date.today().weekday() in range(0,5):\n",
    "        work_D.append(datetime.date.today())\n",
    "\n",
    "    for D in work_D:\n",
    "\n",
    "        insert_D = '{:0>4}-{:0>2}-{:0>2}'.format(D.year,D.month,D.day)   \n",
    "        query_D = '{:0>3}/{:0>2}/{:0>2}'.format(D.year-1911,D.month,D.day)\n",
    "\n",
    "        try:\n",
    "            if pandas.read_html(\"https://www.tpex.org.tw/web/stock/aftertrading/index_summary/summary_print.php?l=zh-tw&d={}&s=0,asc,0\".format(query_D))[0].iloc[2,0] != '':\n",
    "                if pandas.read_sql(\"select * from work_date where date = '{}'\".format(insert_D), con = conn).shape[0] == 0:\n",
    "                    cur.execute(\"insert into work_date (date) values ('{}')\".format(insert_D))\n",
    "                    cur.execute('commit')\n",
    "                    print(f'{insert_D} insert to work_date.')\n",
    "                    time.sleep(3)\n",
    "                else:\n",
    "                    print('{} is exist.'.format(insert_D))\n",
    "            else :\n",
    "                print(f'{insert_D} failed.')\n",
    "        except IndexError:\n",
    "            print('{} No data'.format(insert_D))\n",
    "            pass"
   ]
  },
  {
   "cell_type": "markdown",
   "metadata": {},
   "source": [
    "## 【 PythonOperator 】"
   ]
  },
  {
   "cell_type": "code",
   "execution_count": 6,
   "metadata": {},
   "outputs": [],
   "source": [
    "task_WORK_DATE = PythonOperator(\n",
    "            task_id = 'task_WORK_DATE' ,\n",
    "            python_callable = WORK_DATE , \n",
    "            dag = dag)"
   ]
  },
  {
   "cell_type": "markdown",
   "metadata": {},
   "source": [
    "#  CHECK_WORK_DATE "
   ]
  },
  {
   "cell_type": "markdown",
   "metadata": {},
   "source": [
    "## 【 Function 】"
   ]
  },
  {
   "cell_type": "code",
   "execution_count": 7,
   "metadata": {},
   "outputs": [],
   "source": [
    "def CHECK_WORK_DATE():\n",
    "    lastest_date = pandas.read_sql(\"select date from work_date order by date desc\", con = conn)['date'].iloc[0]\n",
    "    \n",
    "    if datetime.date.today() == lastest_date :\n",
    "        return 'task_GET_STOCK_DAILY'\n",
    "    else :\n",
    "        return 'task_NOT_TRADED_DATE'"
   ]
  },
  {
   "cell_type": "markdown",
   "metadata": {},
   "source": [
    "## 【 BranchPythonOperator 】"
   ]
  },
  {
   "cell_type": "code",
   "execution_count": 8,
   "metadata": {},
   "outputs": [],
   "source": [
    "task_CHECK_WORK_DATE = BranchPythonOperator(task_id = 'task_CHECK_WORK_DATE',\n",
    "                                            python_callable = CHECK_WORK_DATE,\n",
    "                                            dag = dag)"
   ]
  },
  {
   "cell_type": "markdown",
   "metadata": {},
   "source": [
    "# NOT_TRADED_DATE"
   ]
  },
  {
   "cell_type": "markdown",
   "metadata": {},
   "source": [
    "## 【 DummpyOperator 】"
   ]
  },
  {
   "cell_type": "code",
   "execution_count": 9,
   "metadata": {},
   "outputs": [],
   "source": [
    "task_NOT_TRADED_DATE = DummyOperator(task_id = 'task_NOT_TRADED_DATE' , \n",
    "                                     dag = dag)"
   ]
  },
  {
   "cell_type": "markdown",
   "metadata": {},
   "source": [
    "# GET_STOCK_DAILY"
   ]
  },
  {
   "cell_type": "markdown",
   "metadata": {},
   "source": [
    "## 【 Function 】"
   ]
  },
  {
   "cell_type": "code",
   "execution_count": 10,
   "metadata": {},
   "outputs": [],
   "source": [
    "def GET_STOCK_DAILY():\n",
    "    list_url = 'https://www.twse.com.tw/exchangeReport/MI_INDEX?response=html&date={:0>4}{:0>2}{:0>2}&type=ALLBUT0999'\n",
    "    list_sql = 'insert into stock_daily (no,name,close,fluctuation,open,highest,lowest,quantity,date) \\\n",
    "                values (%s,%s,%s,%s,%s,%s,%s,%s,%s)'\n",
    "\n",
    "    work_D = [pandas.read_sql(\"select date from work_date order by date desc \",con = conn)['date'][0]]\n",
    "    \n",
    " \n",
    "    for D in work_D:\n",
    "     \n",
    "        process_day = '{:0>4}-{:0>2}-{:0>2}'.format(D.year , D.month , D.day) \n",
    "        print(process_day)\n",
    "        \n",
    "        cur.execute(\"delete from stock_daily where date = '{}'\".format(process_day))\n",
    "        cur.execute(\"commit\")\n",
    "        \n",
    "        try:\n",
    "            stock = pandas.read_html(list_url.format(D.year , D.month , D.day))[8]\n",
    "            stock = stock.iloc[:,[0,1,8,9,10,5,6,7,2]]\n",
    "            stock.columns = ['no','name','close','fluc(+/-)','fluc','open','highest','lowest','quantity']\n",
    "            stock['store'] = stock.apply(lambda x : 'y' if len(x['no']) == 4 else 'n' , axis = 1)\n",
    "            stock = stock[stock['store'] == 'y']\n",
    "            stock['date'] = process_day\n",
    "            stock['quantity'] = round(stock['quantity']/1000,0)\n",
    "            stock['close'] = stock['close'].str.replace('--','0')\n",
    "            stock['open'] = stock['open'].str.replace('--','0')\n",
    "            stock['highest'] = stock['highest'].str.replace('--','0')\n",
    "            stock['lowest'] = stock['lowest'].str.replace('--','0')\n",
    "            stock['fluctuation'] = stock.apply(lambda x : x['fluc']*(-1) if x['fluc(+/-)'] == '-' else x['fluc'] , axis = 1)\n",
    "            stock = stock.iloc[:,[0,1,2,4,5,6,7,8,10]]\n",
    "            \n",
    "            tmp = pandas.read_sql(\"select * from stock_daily where date = '{}'\".format(process_day),con = conn)\n",
    "            \n",
    "            i_table = pandas.merge(left = stock , right = tmp , how = 'left' , on = 'no')\n",
    "            i_table = i_table[i_table['name_y'].isnull()].iloc[:,:9]\n",
    "            i_table.columns = ['no','name','close','fluctuation','open','highest','lowest','quantity','date']\n",
    "            \n",
    "            for _,data in i_table.iterrows():\n",
    "                cur.execute(list_sql,data)\n",
    "            cur.execute('commit')           \n",
    "            \n",
    "            print('【 Stock Daily Data 】{} data inserted .'.format(process_day))\n",
    "            stock = ''\n",
    "            time.sleep(20)\n",
    "            \n",
    "        except ValueError:\n",
    "            print('【 Stock Daily Data 】{} No data'.format(process_day))\n",
    "            pass"
   ]
  },
  {
   "cell_type": "markdown",
   "metadata": {},
   "source": [
    "## 【 PythonOperator 】"
   ]
  },
  {
   "cell_type": "code",
   "execution_count": 11,
   "metadata": {},
   "outputs": [],
   "source": [
    "task_GET_STOCK_DAILY = PythonOperator(task_id = 'task_GET_STOCK_DAILY',\n",
    "                                      python_callable = GET_STOCK_DAILY,\n",
    "                                      dag = dag)"
   ]
  },
  {
   "cell_type": "markdown",
   "metadata": {},
   "source": [
    "# GET_OTC_DAILY"
   ]
  },
  {
   "cell_type": "markdown",
   "metadata": {},
   "source": [
    "## 【 Function 】"
   ]
  },
  {
   "cell_type": "code",
   "execution_count": 12,
   "metadata": {},
   "outputs": [],
   "source": [
    "def GET_OTC_DAILY():\n",
    "    \n",
    "    otc_url = 'https://www.tpex.org.tw/web/stock/aftertrading/daily_close_quotes/stk_quote_result.php?l=zh-tw&o=htm&d={:0>3}/{:0>2}/{:0>2}&s=0,asc,0'\n",
    "    otc_sql = 'insert into otc_daily (no,name,close,fluctuation,open,highest,lowest,quantity,date) \\\n",
    "               values (%s,%s,%s,%s,%s,%s,%s,%s,%s)'\n",
    "    \n",
    "    work_D = [pandas.read_sql(\"select date from work_date order by date desc \",con = conn)['date'][0]]    \n",
    "    \n",
    "    for D in work_D:\n",
    "        \n",
    "        process_day = '{:0>4}-{:0>2}-{:0>2}'.format(D.year , D.month , D.day)            \n",
    "        process_otc = pandas.read_html(otc_url.format(D.year-1911 , D.month , D.day))[0]\n",
    "        \n",
    "        if process_otc.iloc[-1,0] != '共0筆':\n",
    "            \n",
    "            process_otc = process_otc.iloc[:-4,[0,1,2,3,4,5,6,8]]\n",
    "            process_otc.columns = ['no','name','close','fluctuation','open','highest','lowest','quantity']\n",
    "            process_otc = process_otc[process_otc['no'] != '管理股票']\n",
    "            process_otc['quantity'] = round(process_otc['quantity'].astype(int)/1000,0).astype(int).astype(int)\n",
    "            process_otc['close'] = process_otc['close'].str.replace('---','0')\n",
    "            process_otc['open'] = process_otc['open'].str.replace('---','0')\n",
    "            process_otc['highest'] = process_otc['highest'].str.replace('---','0')\n",
    "            process_otc['lowest'] = process_otc['lowest'].str.replace('---','0')\n",
    "            process_otc['date'] = process_day\n",
    "            process_otc['store'] = ''\n",
    "            process_otc['store'] = process_otc.apply(lambda x : 'Y' if len(x['no']) == 4 else 'N' , axis =1)\n",
    "            process_otc = process_otc[process_otc['store'] == 'Y'].iloc[:,:-1]\n",
    "            \n",
    "            tmp = pandas.read_sql(\"select * from otc_daily where date = '{}'\".format(process_day) , con = conn)\n",
    "            i_table = pandas.merge(left = process_otc , right = tmp , how = 'left' , on = ['no'])            \n",
    "            i_table = i_table[i_table['name_y'].isnull()].iloc[:,:9]\n",
    "            \n",
    "            for _,row_data in i_table.iterrows():\n",
    "                cur.execute(otc_sql,row_data)\n",
    "            cur.execute('commit')\n",
    "\n",
    "            print('【 OTC Daily Data 】{} data inserted .'.format(process_day))\n",
    "            process_otc =''\n",
    "            time.sleep(10)\n",
    "        else:\n",
    "            print('【 OTC Daily Data 】{} No data '.format(process_day))\n",
    "        \n"
   ]
  },
  {
   "cell_type": "markdown",
   "metadata": {},
   "source": [
    "## 【 PythonOperator 】"
   ]
  },
  {
   "cell_type": "code",
   "execution_count": 13,
   "metadata": {},
   "outputs": [],
   "source": [
    "task_GET_OTC_DAILY = PythonOperator(task_id = 'task_GET_OTC_DAILY',\n",
    "                                    python_callable = GET_OTC_DAILY,\n",
    "                                    dag = dag)"
   ]
  },
  {
   "cell_type": "markdown",
   "metadata": {},
   "source": [
    "# GET_STOCK_DAILY_AVG"
   ]
  },
  {
   "cell_type": "markdown",
   "metadata": {},
   "source": [
    "## 【 Function 】"
   ]
  },
  {
   "cell_type": "code",
   "execution_count": 14,
   "metadata": {},
   "outputs": [],
   "source": [
    "def GET_STOCK_DAILY_AVG():\n",
    "\n",
    "    list_url = 'https://www.twse.com.tw/exchangeReport/MI_INDEX?response=html&date={:0>4}{:0>2}{:0>2}&type=ALLBUT0999'\n",
    "    avg_p_sql = 'insert into stock_daily_avg_price (date , no , price) values (%s,%s,%s)'\n",
    "    \n",
    "    work_D = [pandas.read_sql(\"select date from work_date order by date desc \",con = conn)['date'][0]]\n",
    "    \n",
    "    for D in work_D:\n",
    "        \n",
    "        process_day = '{:0>4}-{:0>2}-{:0>2}'.format(D.year , D.month , D.day)     \n",
    "        \n",
    "        try:        \n",
    "            avg_stock = pandas.read_html(list_url.format(D.year,D.month,D.day))[8]\n",
    "            avg_stock = avg_stock.iloc[:,[0,2,4]]\n",
    "            avg_stock.columns = ['no','total_q','total_a']\n",
    "            avg_stock['store'] = avg_stock.apply(lambda x : 'y' if len(x['no']) == 4 else 'n' , axis = 1)\n",
    "            avg_stock = avg_stock[avg_stock['store']=='y']\n",
    "            avg_stock['avg_price'] = round(avg_stock['total_a']/avg_stock['total_q'],2)\n",
    "            avg_stock['date'] = process_day\n",
    "            avg_stock = avg_stock[['date','no','avg_price']]\n",
    "            \n",
    "            tmp = pandas.read_sql(\"select * from stock_daily_avg_price where date = '{}'\".format(process_day) , con = conn)\n",
    "            \n",
    "            # 判斷\n",
    "            i_table = pandas.merge(left = avg_stock , right = tmp , how = 'left' , on = ['no'])           \n",
    "            i_table = i_table[i_table['date_y'].isnull()].iloc[:,:3]\n",
    "            \n",
    "            for _,data in i_table.iterrows():\n",
    "                cur.execute(avg_p_sql,data)\n",
    "            cur.execute('commit')\n",
    "\n",
    "            print('【 Stock Average price 】{} data inserted .'.format(process_day))\n",
    "            time.sleep(20)\n",
    "            \n",
    "        except ValueError :\n",
    "            print('【 Stock Average price 】{} No data'.format(process_day))\n",
    "            pass\n",
    "    "
   ]
  },
  {
   "cell_type": "markdown",
   "metadata": {},
   "source": [
    "## 【 PythonOperator 】"
   ]
  },
  {
   "cell_type": "code",
   "execution_count": 15,
   "metadata": {},
   "outputs": [],
   "source": [
    "task_GET_STOCK_DAILY_AVG = PythonOperator(task_id = 'task_GET_STOCK_DAILY_AVG' ,\n",
    "                                          python_callable = GET_STOCK_DAILY_AVG ,\n",
    "                                          dag = dag)"
   ]
  },
  {
   "cell_type": "markdown",
   "metadata": {},
   "source": [
    "# GET_OTC_DAILY_AVG"
   ]
  },
  {
   "cell_type": "markdown",
   "metadata": {},
   "source": [
    "## 【 Function 】"
   ]
  },
  {
   "cell_type": "code",
   "execution_count": 16,
   "metadata": {},
   "outputs": [],
   "source": [
    "def GET_OTC_DAILY_AVG():\n",
    "    \n",
    "    otc_url = 'https://www.tpex.org.tw/web/stock/aftertrading/daily_close_quotes/stk_quote_result.php?l=zh-tw&o=htm&d={:0>3}/{:0>2}/{:0>2}&s=0,asc,0'\n",
    "    avg_p_sql = 'insert into stock_daily_avg_price (date , no , price) values (%s,%s,%s)'\n",
    "    \n",
    "    work_D = [pandas.read_sql(\"select date from work_date order by date desc \",con = conn)['date'][0]]    \n",
    "    \n",
    "    for D in work_D:        \n",
    "                \n",
    "        process_day = '{:0>4}-{:0>2}-{:0>2}'.format(D.year , D.month , D.day)        \n",
    "        \n",
    "        process_otc = pandas.read_html(otc_url.format(D.year-1911 , D.month , D.day))[0]\n",
    "        process_otc = process_otc.iloc[:-4,[0,7]]\n",
    "        process_otc.columns = ['no','price']\n",
    "        process_otc['date'] = process_day\n",
    "        process_otc['store']=''\n",
    "        process_otc['store'] = process_otc.apply(lambda x : 'n' if len(x['no']) != 4 or x['no'] == '管理股票' else 'y' , axis = 1)\n",
    "        process_otc = process_otc[process_otc['store'] == 'y']\n",
    "        process_otc= process_otc.iloc[:,[2,0,1]]\n",
    "        \n",
    "        tmp = pandas.read_sql(\"select * from stock_daily_avg_price where date = '{}'\".format(process_day) , con = conn)\n",
    "        \n",
    "        i_table = pandas.merge(left = process_otc , right = tmp , how = 'left' , on = 'no')\n",
    "        i_table = i_table[i_table['date_y'].isnull()].iloc[:,:3]\n",
    "        \n",
    "        for _,data in i_table.iterrows():\n",
    "            cur.execute(avg_p_sql , data)\n",
    "        cur.execute('commit')        \n",
    "\n",
    "        print('【 OTC Average price 】{} data inserted .'.format(process_day))\n",
    "        time.sleep(10)\n",
    " "
   ]
  },
  {
   "cell_type": "markdown",
   "metadata": {},
   "source": [
    "## 【 PythonOperator 】"
   ]
  },
  {
   "cell_type": "code",
   "execution_count": 17,
   "metadata": {},
   "outputs": [],
   "source": [
    "task_GET_OTC_DAILY_AVG = PythonOperator(task_id = 'task_GET_OTC_DAILY_AVG' ,\n",
    "                                        python_callable = GET_OTC_DAILY_AVG ,\n",
    "                                        dag = dag)"
   ]
  },
  {
   "cell_type": "markdown",
   "metadata": {},
   "source": [
    "# GET_STOCK_FI_OBS"
   ]
  },
  {
   "cell_type": "markdown",
   "metadata": {},
   "source": [
    "## 【 Function 】"
   ]
  },
  {
   "cell_type": "code",
   "execution_count": 18,
   "metadata": {},
   "outputs": [],
   "source": [
    "def STOCK_FI_OBS():\n",
    "\n",
    "    foreign_investor_stcok_url = 'https://www.twse.com.tw/fund/TWT38U?response=html&date={:0>4}{:0>2}{:0>2}'   \n",
    "    foreign_investor_sql = 'insert into foreign_investor (date , no , quantity) values (%s,%s,%s)'\n",
    "    \n",
    "    work_D = [pandas.read_sql(\"select date from work_date order by date desc \",con = conn)['date'][0]]\n",
    "    \n",
    "    for D in work_D:\n",
    "        \n",
    "        process_day = '{:0>4}-{:0>2}-{:0>2}'.format(D.year , D.month , D.day)\n",
    "    \n",
    "        try:\n",
    "            fi = pandas.read_html(foreign_investor_stcok_url.format(D.year,D.month,D.day))[0]\n",
    "            fi = fi.iloc[:,[1,11]]\n",
    "            fi.columns = ['no','quantity']\n",
    "            fi['no'] = fi['no'].astype('string').str.pad(width = 4 , side = 'left' , fillchar = '0')\n",
    "            fi['store'] = fi.apply(lambda x : 'y' if len(x.loc['no']) == 4 else 'n' ,axis =1)\n",
    "            fi = fi[fi['store']=='y']\n",
    "            fi['date'] = process_day\n",
    "            fi = fi.iloc[:,[3,0,1]]\n",
    "            \n",
    "            tmp = pandas.read_sql(\"select * from foreign_investor where date = '{}'\".format(process_day), con = conn)\n",
    "            \n",
    "            i_table = pandas.merge(left = fi , right = tmp , how = 'left', on = 'no')\n",
    "            i_table = i_table[i_table['date_y'].isnull()].iloc[:,:3]\n",
    "\n",
    "            \n",
    "            for _ , data in i_table.iterrows():               \n",
    "                cur.execute(foreign_investor_sql,data)\n",
    "                cur.execute('commit')\n",
    "            cur.execute('commit')\n",
    "            \n",
    "            \n",
    "            print('【 Foreign Investor (Stock) Over Bought / Sold 】{} data inserted .'.format(process_day))\n",
    "            time.sleep(20)\n",
    "            \n",
    "        except ValueError:\n",
    "            print(' Foreign Investor (Stock) Over Bought / Sold 】{} No data'.format(process_day))\n",
    "            pass"
   ]
  },
  {
   "cell_type": "markdown",
   "metadata": {},
   "source": [
    "## 【 PythonOperator 】"
   ]
  },
  {
   "cell_type": "code",
   "execution_count": 19,
   "metadata": {},
   "outputs": [],
   "source": [
    "task_GET_STOCK_FI_OBS = PythonOperator(task_id = 'task_GET_STOCK_FI_OBS',\n",
    "                                       python_callable = STOCK_FI_OBS ,\n",
    "                                       dag = dag)"
   ]
  },
  {
   "cell_type": "markdown",
   "metadata": {},
   "source": [
    "# GET_OTC_FI_OBS"
   ]
  },
  {
   "cell_type": "markdown",
   "metadata": {},
   "source": [
    "## 【 Function 】"
   ]
  },
  {
   "cell_type": "code",
   "execution_count": 20,
   "metadata": {},
   "outputs": [],
   "source": [
    "def OTC_FI_OBS():\n",
    "    \n",
    "    foreign_investor_otc_buy_url = 'https://www.tpex.org.tw/web/stock/3insti/qfii_trading/forgtr_result.php?l=zh-tw&t=D&type=buy&d={:}/{:0>2}/{:0>2}&s=0,asc&o=htm'\n",
    "    foreign_investor_otc_sell_url = 'https://www.tpex.org.tw/web/stock/3insti/qfii_trading/forgtr_result.php?l=zh-tw&t=D&type=sell&d={:}/{:0>2}/{:0>2}&s=0,asc&o=htm'\n",
    "    foreign_investor_sql = 'insert into foreign_investor (date , no , quantity) values (%s,%s,%s)'\n",
    "    \n",
    "    work_D = [pandas.read_sql(\"select date from work_date order by date desc \",con = conn)['date'][0]]\n",
    "    \n",
    "    for D in work_D:\n",
    "        \n",
    "        process_day = '{:0>4}-{:0>2}-{:0>2}'.format(D.year , D.month , D.day)   \n",
    "\n",
    "# Foreign investor (OTC) Over Bought\n",
    "\n",
    "        fi_otc = pandas.read_html(foreign_investor_otc_buy_url.format(D.year-1911,D.month,D.day))[0]\n",
    "        if fi_otc.iloc[-1,0] != '共0筆':\n",
    "            fi_otc = fi_otc.iloc[:,[1,11]]\n",
    "            fi_otc.columns = ['no','quantity']\n",
    "            fi_otc['no'] = fi_otc['no'].astype('string').str.pad(width = 4 , side = 'left' , fillchar = '0')\n",
    "            fi_otc['store'] = fi_otc.apply(lambda x : 'y' if len(x['no']) == 4 else 'n' ,axis =1 )\n",
    "            fi_otc = fi_otc[fi_otc['store']=='y']\n",
    "            fi_otc['quantity'] = fi_otc['quantity'].astype('int')*1000\n",
    "            fi_otc['date'] = process_day\n",
    "            fi_otc = fi_otc.iloc[:,[3,0,1]]\n",
    "            \n",
    "            tmp = pandas.read_sql(\"select * from foreign_investor where date = '{}'\".format(process_day) , con = conn)\n",
    "\n",
    "            i_table = pandas.merge(left = fi_otc , right = tmp , on = 'no' , how = 'left')\n",
    "            i_table = i_table[i_table['date_y'].isnull()].iloc[:,:3]          \n",
    "            \n",
    "            for _ , data in i_table.iterrows():\n",
    "                cur.execute(foreign_investor_sql,data)\n",
    "            cur.execute('commit')\n",
    "            \n",
    "            i_table = ''\n",
    "            \n",
    "            print('【 Foreign Investor (otc) Over Bought 】{} data inserted .'.format(process_day))\n",
    "        else :\n",
    "            print('【 Foreign Investor (otc) Over Bought 】{} No data .'.format(process_day))\n",
    "    \n",
    "# Foreign investor (OTC) Over Sold       \n",
    "\n",
    "        fi_otc = pandas.read_html(foreign_investor_otc_sell_url.format(D.year-1911,D.month,D.day))[0]\n",
    "        if fi_otc.iloc[-1,0] != '共0筆':\n",
    "            fi_otc = fi_otc.iloc[:,[1,11]]\n",
    "            fi_otc.columns = ['no','quantity']\n",
    "            fi_otc['no'] = fi_otc['no'].astype('string').str.pad(width = 4 , side = 'left' , fillchar = '0')\n",
    "            fi_otc['store'] = fi_otc.apply(lambda x : 'y' if len(x['no']) == 4 else 'n' ,axis =1 )\n",
    "            fi_otc = fi_otc[fi_otc['store']=='y']\n",
    "            fi_otc['quantity'] = fi_otc['quantity'].astype('int')*1000\n",
    "            fi_otc['date'] = process_day\n",
    "            fi_otc = fi_otc.iloc[:,[3,0,1]]\n",
    "            \n",
    "            tmp = pandas.read_sql(\"select * from foreign_investor where date = '{}'\".format(process_day) , con = conn)\n",
    "\n",
    "            i_table = pandas.merge(left = fi_otc , right = tmp , on = 'no' , how = 'left')\n",
    "            i_table = i_table[i_table['date_y'].isnull()].iloc[:,:3]\n",
    "            \n",
    "            for _ , data in i_table.iterrows():\n",
    "                cur.execute(foreign_investor_sql,data)\n",
    "            cur.execute('commit')\n",
    "            \n",
    "            i_table = ''\n",
    "            \n",
    "            print('【 Foreign Investor (otc) Over Sold 】{} data inserted.'.format(process_day))\n",
    "            time.sleep(10)\n",
    "        else:\n",
    "            print('【 Foreign Investor (otc) Over Sold 】{} No data .'.format(process_day))\n"
   ]
  },
  {
   "cell_type": "markdown",
   "metadata": {},
   "source": [
    "## 【 PythonOperator 】"
   ]
  },
  {
   "cell_type": "code",
   "execution_count": 21,
   "metadata": {},
   "outputs": [],
   "source": [
    "task_GET_OTC_FI_OBS = PythonOperator(task_id = 'task_GET_OTC_FI_OBS' ,\n",
    "                                     python_callable = OTC_FI_OBS ,\n",
    "                                     dag = dag)"
   ]
  },
  {
   "cell_type": "markdown",
   "metadata": {},
   "source": [
    "# GET_STOCK_IT_OBS"
   ]
  },
  {
   "cell_type": "markdown",
   "metadata": {},
   "source": [
    "## 【 Function 】"
   ]
  },
  {
   "cell_type": "code",
   "execution_count": 22,
   "metadata": {},
   "outputs": [],
   "source": [
    "def STOCK_IT_OBS():\n",
    "\n",
    "    investment_trust_stock_url ='https://www.twse.com.tw/fund/TWT44U?response=html&date={:0>4}{:0>2}{:0>2}'\n",
    "    investment_trust_sql = 'insert into investment_trust (date , no , quantity) values (%s,%s,%s)'\n",
    "    \n",
    "    work_D = [pandas.read_sql(\"select date from work_date order by date desc \",con = conn)['date'][0]]    \n",
    "    \n",
    "    for D in work_D:\n",
    "        \n",
    "        process_day = '{:0>4}-{:0>2}-{:0>2}'.format(D.year , D.month , D.day)\n",
    "        \n",
    "    # Investment Trust (Stock) Over Bought/Sold    \n",
    "        \n",
    "        try:\n",
    "            process_day = '{:0>4}-{:0>2}-{:0>2}'.format(D.year,D.month,D.day)\n",
    "            investment_trust = pandas.read_html(investment_trust_stock_url.format(D.year,D.month,D.day))[0].iloc[:,[1,5]]\n",
    "            investment_trust.columns = ['no','quantity']\n",
    "            investment_trust['no'] = investment_trust['no'].astype('string').str.pad(width = 4 , side = 'left' , fillchar = '0')\n",
    "            investment_trust['store'] = investment_trust.apply(lambda x : 'y' if len(x['no']) == 4 else 'n' , axis = 1)\n",
    "            investment_trust= investment_trust[investment_trust['store']=='y']\n",
    "            investment_trust['date'] = process_day\n",
    "            investment_trust = investment_trust.iloc[:,[3,0,1]]\n",
    "            \n",
    "            tmp = pandas.read_sql(\"select * from investment_trust where date = '{}'\".format(process_day) , con = conn)\n",
    "            \n",
    "            i_table = pandas.merge(left = investment_trust , right = tmp , how = 'left' , on = 'no')\n",
    "            i_table = i_table[i_table['date_y'].isnull()].iloc[:,:3]\n",
    "\n",
    "            \n",
    "            for _ , data in i_table.iterrows():\n",
    "                cur.execute(investment_trust_sql,data)\n",
    "            cur.execute('commit')\n",
    "            \n",
    "            i_table = ''\n",
    "            \n",
    "            print('【 Investment Trust (Stock) Over Bought / Sold 】{} data inserted .'.format(process_day))\n",
    "            time.sleep(20)\n",
    "            \n",
    "        except ValueError:\n",
    "            print('【 Investment Trust (Stock) Over Bought / Sold 】{} No data'.format(process_day))\n",
    "            pass\n",
    "        "
   ]
  },
  {
   "cell_type": "markdown",
   "metadata": {},
   "source": [
    "## 【PythonOperator】"
   ]
  },
  {
   "cell_type": "code",
   "execution_count": 23,
   "metadata": {},
   "outputs": [],
   "source": [
    "task_GET_STOCK_IT_OBS = PythonOperator(task_id = 'task_GET_STOCK_IT_OBS' ,\n",
    "                                       python_callable = STOCK_IT_OBS ,\n",
    "                                       dag = dag)"
   ]
  },
  {
   "cell_type": "markdown",
   "metadata": {},
   "source": [
    "# GET_OTC_IT_OBS"
   ]
  },
  {
   "cell_type": "markdown",
   "metadata": {},
   "source": [
    "## 【 Function 】"
   ]
  },
  {
   "cell_type": "code",
   "execution_count": 24,
   "metadata": {},
   "outputs": [],
   "source": [
    "def OTC_IT_OBS():\n",
    "    \n",
    "    investment_trust_sql = 'insert into investment_trust (date , no , quantity) values (%s,%s,%s)'\n",
    "    investment_trust_otc_sell_url = 'https://www.tpex.org.tw/web/stock/3insti/sitc_trading/sitctr_result.php?l=zh-tw&t=D&type=sell&d={:0>3}/{:0>2}/{:0>2}&o=htm'\n",
    "    investment_trust_otc_buy_url = 'https://www.tpex.org.tw/web/stock/3insti/sitc_trading/sitctr_result.php?l=zh-tw&t=D&type=buy&d={:0>3}/{:0>2}/{:0>2}&o=htm'\n",
    "\n",
    "    work_D = [pandas.read_sql(\"select date from work_date order by date desc \",con = conn)['date'][0]]    \n",
    "    \n",
    "    for D in work_D:\n",
    "    \n",
    "        process_day = '{:0>4}-{:0>2}-{:0>2}'.format(D.year , D.month , D.day)    \n",
    "        \n",
    "# Investment Trust (OTC) Over Bought\n",
    "\n",
    "        it = pandas.read_html(investment_trust_otc_buy_url.format(D.year-1911,D.month,D.day))[0]\n",
    "        if it.iloc[-1,0] != '共0筆':\n",
    "            it = it.iloc[:-1,[1,5]]\n",
    "            it.columns = ['no','quantity']\n",
    "            it['no'] = it['no'].astype('string').str.pad(width = 4 , side = 'left' , fillchar = '0')\n",
    "            it['quantity'] = it['quantity'].astype(int)*1000\n",
    "            it['store'] = ''\n",
    "            it['store'] = it.apply(lambda x : 'y' if len(x['no']) == 4 else 'n' , axis = 1)\n",
    "            it = it[it['store'] == 'y']\n",
    "            it['date'] = process_day\n",
    "            it = it.iloc[:,[3,0,1]]\n",
    "            \n",
    "            tmp = pandas.read_sql(\"select * from investment_trust where date = '{}'\".format(process_day) , con = conn)\n",
    "            \n",
    "            i_table = pandas.merge(left = it , right = tmp , how = 'left' , on = 'no')\n",
    "            i_table = i_table[i_table['date_y'].isnull()].iloc[:,:3]\n",
    "\n",
    "            for _ , data in i_table.iterrows():\n",
    "                cur.execute(investment_trust_sql,data)\n",
    "            cur.execute('commit')\n",
    "            \n",
    "            i_table = ''\n",
    "\n",
    "            print('【 Investment Trust (Otc) Over Bought 】{} data inserted.'.format(process_day))\n",
    "        else :\n",
    "            print('【 Investment Trust (Otc) Over Bought 】{} No data .'.format(process_day))\n",
    "\n",
    "# Investment True (OTC) Over Sold\n",
    "\n",
    "        it = pandas.read_html(investment_trust_otc_sell_url.format(D.year-1911,D.month,D.day))[0]\n",
    "        if it.iloc[-1,0] != '共0筆':\n",
    "            it = it.iloc[:-1,[1,5]]\n",
    "            it.columns = ['no','quantity']\n",
    "            it['no'] = it['no'].astype('string').str.pad(width = 4 , side = 'left' , fillchar = '0')\n",
    "            it['quantity'] = it['quantity'].astype(int)*1000\n",
    "            it['store'] = ''\n",
    "            it['store'] = it.apply(lambda x : 'y' if len(x['no']) == 4 else 'n' , axis = 1)\n",
    "            it = it[it['store'] == 'y']\n",
    "            it['date'] = process_day\n",
    "            it = it.iloc[:,[3,0,1]]\n",
    "            \n",
    "            tmp = pandas.read_sql(\"select * from investment_trust where date = '{}'\".format(process_day) , con = conn)\n",
    "            \n",
    "            i_table = pandas.merge(left = it , right = tmp , how = 'left' , on = 'no')\n",
    "            i_table = i_table[i_table['date_y'].isnull()].iloc[:,:3]\n",
    "            \n",
    "            for _ , data in i_table.iterrows():\n",
    "                cur.execute(investment_trust_sql,data)\n",
    "            cur.execute('commit')\n",
    "            \n",
    "            i_table = ''\n",
    "            \n",
    "            print('【 Investment Trust (Otc) Over Sold 】{} data inserted.'.format(process_day))\n",
    "            time.sleep(10)\n",
    "        else :\n",
    "            print('【 Investment Trust (Otc) Over Sold 】{} No data .'.format(process_day))"
   ]
  },
  {
   "cell_type": "markdown",
   "metadata": {},
   "source": [
    "## 【 PythonOperator 】"
   ]
  },
  {
   "cell_type": "code",
   "execution_count": 25,
   "metadata": {},
   "outputs": [],
   "source": [
    "task_GET_OTC_IT_OBS = PythonOperator(task_id = 'task_GET_OTC_IT_OBS' , \n",
    "                                     python_callable = OTC_IT_OBS ,\n",
    "                                     dag = dag)"
   ]
  },
  {
   "cell_type": "markdown",
   "metadata": {},
   "source": [
    "# GET_STOCK_DL_OBS"
   ]
  },
  {
   "cell_type": "markdown",
   "metadata": {},
   "source": [
    "## 【 Function 】"
   ]
  },
  {
   "cell_type": "code",
   "execution_count": 26,
   "metadata": {},
   "outputs": [],
   "source": [
    "def STOCK_DL_OBS():\n",
    "\n",
    "    dealer_stock_url ='https://www.twse.com.tw/fund/TWT43U?response=html&date={:0>4}{:0>2}{:0>2}'\n",
    "    dealer_sql = 'insert into dealer (date , no , quantity) values (%s,%s,%s)'\n",
    "    \n",
    "    work_D = [pandas.read_sql(\"select date from work_date order by date desc \",con = conn)['date'][0]]\n",
    "    \n",
    "    for D in work_D:    \n",
    "    \n",
    "        process_day = '{:0>4}-{:0>2}-{:0>2}'.format(D.year , D.month , D.day)        \n",
    "    \n",
    "        try:\n",
    "            dealer = pandas.read_html(dealer_stock_url.format(D.year,D.month,D.day))[0]\n",
    "            dealer = dealer.iloc[:,[0,10]]\n",
    "            dealer.columns = ['no','quantity']\n",
    "            dealer['no'] = dealer['no'].astype('string').str.pad(width = 4 , side = 'left' , fillchar = '0')\n",
    "            dealer['store'] = dealer.apply(lambda x : 'y' if len(x['no']) == 4 else 'n' , axis=1)\n",
    "            dealer = dealer[dealer['store']=='y']\n",
    "            dealer = dealer[dealer['quantity'] != 0]\n",
    "            dealer['date'] = process_day\n",
    "            dealer = dealer.iloc[:,[3,0,1]]\n",
    "            \n",
    "            tmp = pandas.read_sql(\"select * from dealer where date = '{}'\".format(process_day) , con = conn)\n",
    "            \n",
    "            i_table = pandas.merge(left = dealer , right = tmp , how = 'left' , on = 'no')\n",
    "            i_table = i_table[i_table['date_y'].isnull()].iloc[:,:3]\n",
    "            \n",
    "            for _ , data in i_table.iterrows():\n",
    "                cur.execute(dealer_sql,data)\n",
    "            cur.execute('commit')\n",
    "            \n",
    "            i_table = ''\n",
    "\n",
    "            print('【 Dealer (Stock) Over Bought / Sold 】{} data inserted .'.format(process_day))\n",
    "            time.sleep(20)\n",
    "            \n",
    "        except ValueError:\n",
    "            print('【 Dealer (Stock) Over Bought / Sold 】{} No data'.format(process_day))   \n",
    "            pass"
   ]
  },
  {
   "cell_type": "markdown",
   "metadata": {},
   "source": [
    "## 【 PythonOperator 】"
   ]
  },
  {
   "cell_type": "code",
   "execution_count": 27,
   "metadata": {},
   "outputs": [],
   "source": [
    "task_GET_STOCK_DL_OBS = PythonOperator(task_id = 'task_GET_STOCK_DL_OBS' ,\n",
    "                                       python_callable = STOCK_DL_OBS ,\n",
    "                                       dag = dag)"
   ]
  },
  {
   "cell_type": "markdown",
   "metadata": {},
   "source": [
    "# GET_OTC_DL_OBS"
   ]
  },
  {
   "cell_type": "markdown",
   "metadata": {},
   "source": [
    "## 【 Function 】"
   ]
  },
  {
   "cell_type": "code",
   "execution_count": 28,
   "metadata": {},
   "outputs": [],
   "source": [
    "def OTC_DL_OBS():\n",
    "    \n",
    "    dealer_otc_buy_url = 'https://www.tpex.org.tw/web/stock/3insti/dealer_trading/dealtr_hedge_result.php?l=zh-tw&o=htm&t=D&type=buy&d={:0>3}/{:0>2}/{:0>2}&s=0,asc'\n",
    "    dealer_otc_sell_url = 'https://www.tpex.org.tw/web/stock/3insti/dealer_trading/dealtr_hedge_result.php?l=zh-tw&o=htm&t=D&type=sell&d={:0>3}/{:0>2}/{:0>2}&s=0,asc'\n",
    "    dealer_sql = 'insert into dealer (date , no , quantity) values (%s,%s,%s)'\n",
    "\n",
    "    work_D = [pandas.read_sql(\"select date from work_date order by date desc \",con = conn)['date'][0]]    \n",
    "    \n",
    "    for D in work_D:\n",
    "        \n",
    "        process_day = '{:0>4}-{:0>2}-{:0>2}'.format(D.year , D.month , D.day)    \n",
    "    \n",
    "# Dealer (OTC) Over Bought\n",
    "\n",
    "        dealer = pandas.read_html(dealer_otc_buy_url.format(D.year-1911,D.month,D.day))[0]\n",
    "        if dealer.iloc[-1,0] != '共0筆':\n",
    "            dealer = dealer.iloc[:,[1,9]]\n",
    "            dealer.columns = ['no','quantity']\n",
    "            dealer['no'] = dealer['no'].astype('string').str.pad(width = 4 , side = 'left' , fillchar = '0')\n",
    "            dealer['store'] = ''\n",
    "            dealer['store'] = dealer.apply(lambda x : 'y' if len(x['no']) == 4 else 'n' , axis = 1)\n",
    "            dealer = dealer[dealer['store'] == 'y']\n",
    "            dealer['quantity'] = dealer['quantity'].astype(int)*1000\n",
    "            dealer['date'] = process_day\n",
    "            dealer = dealer.iloc[:,[3,0,1]]\n",
    "            \n",
    "            tmp = pandas.read_sql(\"select * from dealer where date = '{}'\".format(process_day) , con = conn)\n",
    "            \n",
    "            i_table = pandas.merge(left = dealer , right = tmp , how = 'left' , on = 'no')\n",
    "            i_table = i_table[i_table['date_y'].isnull()].iloc[:,:3]\n",
    "            \n",
    "            for _ , data in i_table.iterrows():\n",
    "                cur.execute(dealer_sql,data)\n",
    "            cur.execute('commit')\n",
    "            \n",
    "            i_table = ''\n",
    "            \n",
    "            print('【 Dealer (Otc) Over Bought 】{} data inserted.'.format(process_day))\n",
    "        else:\n",
    "            print('【 Dealer (Otc) Over Bought 】{} No data inserted.'.format(process_day))\n",
    "\n",
    "    \n",
    "# Dealer (OTC) Over Sold    \n",
    "    \n",
    "        dealer = pandas.read_html(dealer_otc_sell_url.format(D.year-1911,D.month,D.day))[0]\n",
    "        if dealer.iloc[-1,0] != '共0筆':\n",
    "            dealer = dealer.iloc[:,[1,9]]\n",
    "            dealer.columns = ['no','quantity']\n",
    "            dealer['no'] = dealer['no'].astype('string').str.pad(width = 4 , side = 'left' , fillchar = '0')\n",
    "            dealer['store'] = ''\n",
    "            dealer['store'] = dealer.apply(lambda x : 'y' if len(x['no']) == 4 else 'n' , axis = 1)\n",
    "            dealer = dealer[dealer['store'] == 'y']\n",
    "            dealer['quantity'] = dealer['quantity'].astype(int)*1000\n",
    "            dealer['date'] = process_day\n",
    "            dealer = dealer.iloc[:,[3,0,1]]\n",
    "            \n",
    "            tmp = pandas.read_sql(\"select * from dealer where date = '{}'\".format(process_day) , con = conn)\n",
    "            \n",
    "            i_table = pandas.merge(left = dealer , right = tmp , how = 'left' , on = 'no')\n",
    "            i_table = i_table[i_table['date_y'].isnull()].iloc[:,:3]\n",
    "            \n",
    "            for _ , data in i_table.iterrows():\n",
    "                cur.execute(dealer_sql,data)\n",
    "            cur.execute('commit')\n",
    "            \n",
    "            i_table = ''\n",
    "\n",
    "            print('【 Dealer (Otc) Over Sold 】{} data inserted.'.format(process_day))\n",
    "            time.sleep(10)\n",
    "        else:\n",
    "            print('【 Dealer (Otc) Over Sold 】{} No data .'.format(process_day))"
   ]
  },
  {
   "cell_type": "markdown",
   "metadata": {},
   "source": [
    "## 【 PythonOperator 】"
   ]
  },
  {
   "cell_type": "code",
   "execution_count": 29,
   "metadata": {},
   "outputs": [],
   "source": [
    "task_GET_OTC_DL_OBS = PythonOperator(task_id = 'task_GET_OTC_DL_OBS',\n",
    "                                     python_callable = OTC_DL_OBS , \n",
    "                                     dag = dag)"
   ]
  },
  {
   "cell_type": "markdown",
   "metadata": {},
   "source": [
    "# GET_OTC_ISSUED_AMOUNT"
   ]
  },
  {
   "cell_type": "markdown",
   "metadata": {},
   "source": [
    "## 【 Function 】"
   ]
  },
  {
   "cell_type": "code",
   "execution_count": 30,
   "metadata": {},
   "outputs": [],
   "source": [
    "def OTC_ISSUED_AMOUNTS():\n",
    "    \n",
    "    work_D = [pandas.read_sql(\"select date from work_date order by date desc \",con = conn)['date'][0]]\n",
    "    \n",
    "    for D in work_D:\n",
    "        \n",
    "        insert_D = '{:0>4}{:0>2}{:0>2}'.format(D.year,D.month,D.day)\n",
    "        \n",
    "        html = 'https://www.tpex.org.tw/web/stock/aftertrading/daily_close_quotes/stk_quote_result.php?l=zh-tw&o=htm&d={:0>3}/{:0>2}/{:0>2}&s=0,asc,0'.format(D.year-1911,D.month,D.day)\n",
    "        try:\n",
    "            main = pandas.read_html(html)[0].iloc[:,[0,15]]\n",
    "            main['not_stock']= main.apply(lambda x : 'y' if x.iloc[0].isdigit() == True else 'n' , axis =1)\n",
    "            main = main[main['not_stock'] == 'y'].iloc[:,[0,1]]\n",
    "            main['not_etl']= main.apply(lambda x : 'y' if len(x.iloc[0]) == 4  else 'n' , axis =1 )\n",
    "            main = main[main['not_etl'] == 'y'].iloc[:,[0,1]]\n",
    "            main.columns = ['no','issued_amounts']\n",
    "            #main = main[main['no'] != '8462']\n",
    "            main['date'] = insert_D\n",
    "            main['type'] = 'OTC'\n",
    "            \n",
    "            tmp = pandas.read_sql(\"select * from issued_amounts where type = 'OTC' and date = '{}'\".format(insert_D) , con = conn)\n",
    "            \n",
    "            i_table = pandas.merge(left = main , right = tmp , how = 'left' , on = 'no')\n",
    "            i_table = i_table[i_table['date_y'].isnull()].iloc[:,:4]\n",
    "\n",
    "            \n",
    "            for _ , data in i_table.iterrows():\n",
    "                cur.execute(\"insert into issued_amounts (no , amounts , date , type) values (%s,%s,%s,%s)\",data)\n",
    "            cur.execute(\"commit\")\n",
    "            \n",
    "            print('【 OTC issued amounts 】{} data inserted . '.format(insert_D))\n",
    "            time.sleep(10)\n",
    "        \n",
    "        except ValueError:\n",
    "            print('【 OTC issued amounts 】{} No data'.format(insert_D))\n",
    "            pass"
   ]
  },
  {
   "cell_type": "markdown",
   "metadata": {},
   "source": [
    "## 【 PythonOperator 】"
   ]
  },
  {
   "cell_type": "code",
   "execution_count": 31,
   "metadata": {},
   "outputs": [],
   "source": [
    "task_GET_OTC_ISSUED_AMOUNT = PythonOperator(task_id = 'task_GET_OTC_ISSUED_AMOUNT' ,\n",
    "                                            python_callable = OTC_ISSUED_AMOUNTS ,\n",
    "                                            dag = dag)"
   ]
  },
  {
   "cell_type": "markdown",
   "metadata": {},
   "source": [
    "# Full DAG"
   ]
  },
  {
   "cell_type": "code",
   "execution_count": 32,
   "metadata": {},
   "outputs": [
    {
     "data": {
      "text/plain": [
       "<Task(PythonOperator): task_GET_OTC_ISSUED_AMOUNT>"
      ]
     },
     "execution_count": 32,
     "metadata": {},
     "output_type": "execute_result"
    }
   ],
   "source": [
    "task_WORK_DATE >> task_CHECK_WORK_DATE >> task_NOT_TRADED_DATE \n",
    "task_CHECK_WORK_DATE >> task_GET_STOCK_DAILY >> task_GET_OTC_DAILY\n",
    "task_GET_OTC_DAILY >> task_GET_STOCK_DAILY_AVG >> task_GET_OTC_DAILY_AVG \n",
    "task_GET_OTC_DAILY_AVG >> task_GET_STOCK_FI_OBS >> task_GET_OTC_FI_OBS\n",
    "task_GET_OTC_FI_OBS >> task_GET_STOCK_IT_OBS >> task_GET_OTC_IT_OBS\n",
    "task_GET_OTC_IT_OBS >> task_GET_STOCK_DL_OBS >> task_GET_OTC_DL_OBS >> task_GET_OTC_ISSUED_AMOUNT"
   ]
  }
 ],
 "metadata": {
  "kernelspec": {
   "display_name": "Python 3",
   "language": "python",
   "name": "python3"
  },
  "language_info": {
   "codemirror_mode": {
    "name": "ipython",
    "version": 3
   },
   "file_extension": ".py",
   "mimetype": "text/x-python",
   "name": "python",
   "nbconvert_exporter": "python",
   "pygments_lexer": "ipython3",
   "version": "3.8.3"
  },
  "toc": {
   "base_numbering": 1,
   "nav_menu": {},
   "number_sections": true,
   "sideBar": true,
   "skip_h1_title": false,
   "title_cell": "Table of Contents",
   "title_sidebar": "Contents",
   "toc_cell": false,
   "toc_position": {
    "height": "calc(100% - 180px)",
    "left": "10px",
    "top": "150px",
    "width": "307.133px"
   },
   "toc_section_display": true,
   "toc_window_display": true
  }
 },
 "nbformat": 4,
 "nbformat_minor": 4
}
