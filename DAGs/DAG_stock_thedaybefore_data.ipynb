{
 "cells": [
  {
   "cell_type": "code",
   "execution_count": 2,
   "metadata": {},
   "outputs": [],
   "source": [
    "import datetime\n",
    "import time\n",
    "from airflow import DAG\n",
    "from airflow.models import Variable\n",
    "from airflow.operators.python import PythonOperator , BranchPythonOperator\n",
    "from airflow.operators.dummy import DummyOperator\n",
    "import pandas\n",
    "\n",
    "import psycopg2"
   ]
  },
  {
   "cell_type": "code",
   "execution_count": 12,
   "metadata": {},
   "outputs": [
    {
     "data": {
      "text/plain": [
       "datetime.datetime(2021, 9, 17, 9, 15)"
      ]
     },
     "execution_count": 12,
     "metadata": {},
     "output_type": "execute_result"
    }
   ],
   "source": [
    "start_date = Variable.get('DAG_STARTDATE')\n",
    "start_date = datetime.datetime.strptime(start_date + ' 09:15:00','%Y%m%d %H:%M:%S')"
   ]
  },
  {
   "cell_type": "markdown",
   "metadata": {},
   "source": [
    "# Setting"
   ]
  },
  {
   "cell_type": "markdown",
   "metadata": {},
   "source": [
    "## Arguments"
   ]
  },
  {
   "cell_type": "code",
   "execution_count": 2,
   "metadata": {},
   "outputs": [],
   "source": [
    "args = {\n",
    "    'owner' : 'Buneo' ,\n",
    "    'depends_on_past' : False ,\n",
    "    'start_date' : start_date ,\n",
    "    'email_on_failure' : 'buneostock@gmail.com' ,\n",
    "    'email_on_retry' : 'buneostock@gmail.com' ,\n",
    "    'retreis' : 2 ,\n",
    "    'retry_delay' : datetime.timedelta(minutes = 5)\n",
    "        }\n",
    "\n",
    "dag = DAG('stock_thedaybefore_data',\n",
    "          description = '' ,\n",
    "          schedule_interval = '15 9 * * 1-5',\n",
    "          default_args = args ,\n",
    "          tags = ['stock'])"
   ]
  },
  {
   "cell_type": "markdown",
   "metadata": {},
   "source": [
    "## Variables"
   ]
  },
  {
   "cell_type": "code",
   "execution_count": 3,
   "metadata": {},
   "outputs": [],
   "source": [
    "postgres_password = Variable.get(\"Postgres_password\")"
   ]
  },
  {
   "cell_type": "markdown",
   "metadata": {},
   "source": [
    "## DataBase Connection"
   ]
  },
  {
   "cell_type": "code",
   "execution_count": 4,
   "metadata": {},
   "outputs": [],
   "source": [
    "conn = psycopg2.connect(host = '127.0.0.1' , dbname = 'postgres' , user = 'postgres' , password = postgres_password)\n",
    "cur = conn.cursor()"
   ]
  },
  {
   "cell_type": "markdown",
   "metadata": {},
   "source": [
    "# CHECK_WORK_DATE"
   ]
  },
  {
   "cell_type": "markdown",
   "metadata": {},
   "source": [
    "## 【 Function 】"
   ]
  },
  {
   "cell_type": "code",
   "execution_count": 5,
   "metadata": {},
   "outputs": [],
   "source": [
    "def CHECK_WORK_DATE():\n",
    "    work_D = pandas.read_sql(\"select date from work_date order by date desc limit 1\" , con = conn)['date'].iloc[0]\n",
    "    if work_D == datetime.date.today():\n",
    "        return 'task_GET_STOCK_CREDIT'\n",
    "    else :\n",
    "        return 'task_NOT_TRADED_DATE'"
   ]
  },
  {
   "cell_type": "markdown",
   "metadata": {},
   "source": [
    "## 【 BranchPythonOperator 】"
   ]
  },
  {
   "cell_type": "code",
   "execution_count": 6,
   "metadata": {},
   "outputs": [],
   "source": [
    "task_CHECK_WORK_DATE = BranchPythonOperator(task_id = 'task_CHECK_WORK_DATE' , \n",
    "                                            python_callable = CHECK_WORK_DATE ,\n",
    "                                            dag = dag)"
   ]
  },
  {
   "cell_type": "markdown",
   "metadata": {},
   "source": [
    "# NOT_TRADED_DATE"
   ]
  },
  {
   "cell_type": "markdown",
   "metadata": {},
   "source": [
    "## 【 DummyOperator 】"
   ]
  },
  {
   "cell_type": "code",
   "execution_count": 7,
   "metadata": {},
   "outputs": [],
   "source": [
    "task_NOT_TRADED_DATE = DummyOperator(task_id = 'task_NOT_TRADED_DATE',\n",
    "                                     dag = dag)"
   ]
  },
  {
   "cell_type": "markdown",
   "metadata": {},
   "source": [
    "# GET_STOCK_CREDIT"
   ]
  },
  {
   "cell_type": "markdown",
   "metadata": {},
   "source": [
    "## 【 Function 】"
   ]
  },
  {
   "cell_type": "code",
   "execution_count": 8,
   "metadata": {},
   "outputs": [],
   "source": [
    "def STOCK_CREDIT():\n",
    "    \n",
    "    work_D = [pandas.read_sql(\"select date from work_date order by date desc limit 2\" , con = conn)['date'].iloc[1]]\n",
    "    \n",
    "    for D in work_D:\n",
    "        \n",
    "        insert_D = D\n",
    "        process_day = '{:0>4}-{:0>2}-{:0>2}'.format(insert_D.year,insert_D.month,insert_D.day)\n",
    "        \n",
    "        try :\n",
    "            main = pandas.read_html(\"https://www.twse.com.tw/exchangeReport/MI_MARGN?response=html&date={:0>4}{:0>2}{:0>2}&selectType=ALL\".format(insert_D.year,insert_D.month,insert_D.day))[1].iloc[:,[0,6,12,13]]\n",
    "            main.columns = ['no','margin','short','total']\n",
    "            main['date'] = process_day\n",
    "            main['store'] = main.apply(lambda x : 'y' if len(x['no']) == 4 else 'n' , axis = 1)\n",
    "            main = main[main['store']=='y']\n",
    "            main = main[['date','no','margin','short','total']]\n",
    "            \n",
    "            tmp = pandas.read_sql(\"select * from credit_trade where date = '{}'\".format(process_day) , con = conn)\n",
    "            \n",
    "            i_table = pandas.merge(left = main , right = tmp , how = 'left' , on = 'no')\n",
    "            i_table = i_table[i_table['date_y'].isnull()].iloc[:,:5]\n",
    "            \n",
    "            for _ , data in i_table.iterrows():\n",
    "                cur.execute(\"insert into credit_trade (date,no,margin,short,total) values (%s,%s,%s,%s,%s)\" , data)\n",
    "            cur.execute(\"commit\")\n",
    "            \n",
    "            i_table = ''\n",
    "            \n",
    "            print('【 (STOCK) Credit Trade 】{} data inserted.'.format(process_day))\n",
    "            time.sleep(20)\n",
    "                    \n",
    "        except ValueError :\n",
    "            print('【 (STOCK) Credit Trade 】{} No data'.format(process_day))\n",
    "            pass"
   ]
  },
  {
   "cell_type": "markdown",
   "metadata": {},
   "source": [
    "## 【 PythonOperator 】"
   ]
  },
  {
   "cell_type": "code",
   "execution_count": 9,
   "metadata": {},
   "outputs": [],
   "source": [
    "task_GET_STOCK_CREDIT = PythonOperator(task_id = 'task_GET_STOCK_CREDIT' , \n",
    "                                       python_callable = STOCK_CREDIT ,\n",
    "                                       dag = dag)"
   ]
  },
  {
   "cell_type": "markdown",
   "metadata": {},
   "source": [
    "# GET_OTC_CREDIT"
   ]
  },
  {
   "cell_type": "markdown",
   "metadata": {},
   "source": [
    "## 【 Function 】"
   ]
  },
  {
   "cell_type": "code",
   "execution_count": 10,
   "metadata": {},
   "outputs": [],
   "source": [
    "def OTC_CREDIT():\n",
    "    \n",
    "    work_D = [pandas.read_sql(\"select date from work_date order by date desc limit 2\" , con = conn)['date'].iloc[1]]\n",
    "    \n",
    "    for D in work_D:\n",
    "        \n",
    "        insert_D = D\n",
    "        process_day = '{:0>4}-{:0>2}-{:0>2}'.format(insert_D.year,insert_D.month,insert_D.day)\n",
    "        \n",
    "        try:\n",
    "            main = pandas.read_html(\"https://www.tpex.org.tw/web/stock/margin_trading/margin_balance/margin_bal_result.php?l=zh-tw&o=htm&d={0}/{1:0>2}/{2:0>2}&s=0,asc\".format(insert_D.year-1911,insert_D.month,insert_D.day))[0].iloc[:-4,[0,6,14,17]]\n",
    "            main.columns = ['no','margin','short','total']\n",
    "            main['date'] = process_day\n",
    "            main['store'] = main.apply(lambda x : 'y' if len(x['no']) == 4 else 'n' , axis = 1)\n",
    "            main = main[main['store']=='y']\n",
    "            main = main[['date','no','margin','short','total']]\n",
    "            \n",
    "            tmp = pandas.read_sql(\"select * from credit_trade where date = '{}'\".format(process_day) , con = conn)\n",
    "            \n",
    "            i_table = pandas.merge(left = main , right = tmp , how = 'left' , on = 'no')\n",
    "            i_table = i_table[i_table['date_y'].isnull()].iloc[:,:5]            \n",
    "            \n",
    "            for _ , data in i_table.iterrows():\n",
    "                cur.execute(\"insert into credit_trade (date,no,margin,short,total) values (%s,%s,%s,%s,%s)\" , data)\n",
    "            cur.execute(\"commit\")\n",
    "            \n",
    "            print('【 (OTC) Credit Trade 】{} data inserted.'.format(process_day))\n",
    "            time.sleep(10)\n",
    "                    \n",
    "        except ValueError :\n",
    "            print('【 (OTC) Credit Trade 】{} No data'.format(process_day))\n",
    "            pass"
   ]
  },
  {
   "cell_type": "markdown",
   "metadata": {},
   "source": [
    "## 【 PythonOperator 】"
   ]
  },
  {
   "cell_type": "code",
   "execution_count": 11,
   "metadata": {},
   "outputs": [],
   "source": [
    "task_GET_OTC_CREDIT = PythonOperator(task_id = 'task_GET_OTC_CREDIT',\n",
    "                                     python_callable = OTC_CREDIT ,\n",
    "                                     dag = dag)"
   ]
  },
  {
   "cell_type": "markdown",
   "metadata": {},
   "source": [
    "# GET_STOCK_FI_SHAREHOLDING"
   ]
  },
  {
   "cell_type": "markdown",
   "metadata": {},
   "source": [
    "## 【 Function 】"
   ]
  },
  {
   "cell_type": "code",
   "execution_count": 12,
   "metadata": {},
   "outputs": [],
   "source": [
    "def STOCK_FI_SHAREHOLDING():\n",
    "    \n",
    "    work_D = [pandas.read_sql(\"select date from work_date order by date desc limit 2\" , con = conn)['date'].iloc[1]]\n",
    "    \n",
    "    for D in work_D:\n",
    "        \n",
    "        insert_D = '{:0>4}-{:0>2}-{:0>2}'.format(D.year,D.month,D.day)\n",
    "        \n",
    "        html = 'https://www.twse.com.tw/fund/MI_QFIIS?response=html&date={:0>4}{:0>2}{:0>2}&selectType=ALLBUT0999'.format(D.year,D.month,D.day)\n",
    "        \n",
    "        try:\n",
    "            \n",
    "            main = pandas.read_html(html)[0]\n",
    "            main = main.iloc[:,[0,7,3]]\n",
    "            main.columns = ['no','hold_percent','issued_amount']\n",
    "            main['date'] = insert_D\n",
    "            main['hold_percent'] = main['hold_percent']/100\n",
    "            main['store'] = main.apply(lambda x : 'y' if len(x['no']) == 4 else 'n' , axis =1 )\n",
    "            main = main[main['store']=='y']\n",
    "            main = main[['date','no','hold_percent','issued_amount']]\n",
    "            \n",
    "            tmp = pandas.read_sql(\"select * from FI_HOLD where date = '{}'\".format(insert_D) , con = conn)\n",
    "            \n",
    "            i_table = pandas.merge(left = main , right = tmp , how = 'left' , on = 'no')\n",
    "            i_table = i_table[i_table['date_y'].isnull()].iloc[:,:4]  \n",
    "            \n",
    "            for _ , data in i_table.iterrows():\n",
    "                cur.execute(\"insert into FI_HOLD (date , no , hold_percent,issued_amount) values (%s,%s,%s,%s)\",data)\n",
    "            cur.execute(\"commit\")\n",
    "            print(\"【 Stock Share Holding 】{} data inserted. \".format(insert_D))\n",
    "            \n",
    "            time.sleep(15)    \n",
    "            \n",
    "        except ValueError :\n",
    "            print(\"【 Stock Share Holding 】{} no data. \".format(insert_D))"
   ]
  },
  {
   "cell_type": "markdown",
   "metadata": {},
   "source": [
    "## 【 PythonOperator 】"
   ]
  },
  {
   "cell_type": "code",
   "execution_count": 13,
   "metadata": {},
   "outputs": [],
   "source": [
    "task_GET_STOCK_FI_SHAREHOLDING = PythonOperator(task_id = 'task_GET_STOCK_FI_SHAREHOLDING',\n",
    "                                                python_callable = STOCK_FI_SHAREHOLDING ,\n",
    "                                                dag = dag)"
   ]
  },
  {
   "cell_type": "markdown",
   "metadata": {},
   "source": [
    "# GET_STOCK_ISSUED_AMOUNTS"
   ]
  },
  {
   "cell_type": "markdown",
   "metadata": {},
   "source": [
    "## 【 Function 】"
   ]
  },
  {
   "cell_type": "code",
   "execution_count": 14,
   "metadata": {},
   "outputs": [],
   "source": [
    "def STOCK_ISSUED_AMOUNTS():\n",
    "    \n",
    "    work_D = [pandas.read_sql(\"select date from work_date order by date desc limit 2\" , con = conn)['date'].iloc[1]]\n",
    "    \n",
    "    for D in work_D:\n",
    "        \n",
    "        insert_D = '{:0>4}{:0>2}{:0>2}'.format(D.year,D.month,D.day)\n",
    "        html = 'https://www.twse.com.tw/fund/MI_QFIIS?response=html&date={0}&selectType=ALLBUT0999'.format(insert_D)\n",
    "        \n",
    "        try:\n",
    "            main = pandas.read_html(html)[0]\n",
    "            main = main.iloc[:,[0,3]]\n",
    "            main['date'] = '{:0>4}-{:0>2}-{:0>2}'.format(D.year,D.month,D.day)\n",
    "            main.columns = ['no','amounts','date']\n",
    "            main['store'] = main.apply(lambda x : 'y' if len(x['no']) == 4 else 'n' , axis = 1)\n",
    "            main['type'] = 'STOCK'\n",
    "            main = main[main['store'] == 'y'][['date','no','amounts','type']]\n",
    "            \n",
    "            tmp = pandas.read_sql(\"select * from issued_amounts where date = '{}'\".format(insert_D) , con = conn)\n",
    "            \n",
    "            i_table = pandas.merge(left = main , right = tmp , how = 'left' , on = 'no')\n",
    "            i_table = i_table[i_table['date_y'].isnull()].iloc[:,:4]\n",
    "            \n",
    "            for _ , data in i_table.iterrows():\n",
    "                cur.execute(\"insert into issued_amounts (date , no , amounts,type) values (%s,%s,%s,%s)\",data)\n",
    "            cur.execute(\"commit\")\n",
    "            \n",
    "            print('【 Stock issued amounts 】{} data inserted . '.format(insert_D))\n",
    "            time.sleep(10)\n",
    "            \n",
    "        except ValueError:\n",
    "            print('【 Stock issued amounts 】{} No data'.format(insert_D))\n",
    "            pass\n"
   ]
  },
  {
   "cell_type": "markdown",
   "metadata": {},
   "source": [
    "## 【 PythonOperator 】"
   ]
  },
  {
   "cell_type": "code",
   "execution_count": 15,
   "metadata": {},
   "outputs": [],
   "source": [
    "task_GET_STOCK_ISSUED_AMOUNTS = PythonOperator(task_id = 'task_GET_STOCK_ISSUED_AMOUNTS',\n",
    "                                               python_callable = STOCK_ISSUED_AMOUNTS ,\n",
    "                                               dag = dag)"
   ]
  },
  {
   "cell_type": "markdown",
   "metadata": {},
   "source": [
    "# DISTINCT_ISSUED_AMOUNTS"
   ]
  },
  {
   "cell_type": "markdown",
   "metadata": {},
   "source": [
    "## 【 Function 】"
   ]
  },
  {
   "cell_type": "code",
   "execution_count": 16,
   "metadata": {},
   "outputs": [],
   "source": [
    "def DISTINCT_ISSUED_AMOUNTS():\n",
    "    main = pandas.read_sql(\"select date , no , count(*) from issued_amounts group by date , no having count(*) > 1\" , con = conn)\n",
    "    main = main[['date','no']]\n",
    "    main['type'] = 'OTC'\n",
    "    for _ , data in main.iterrows():\n",
    "        cur.execute(\"delete from issued_amounts where date = %s and no = %s and type = %s\",data)\n",
    "    cur.execute(\"commit\")\n",
    "    \n",
    "    print('DISTINCT_ISSUED_AMOUNTS is finished .')"
   ]
  },
  {
   "cell_type": "markdown",
   "metadata": {},
   "source": [
    "## 【 PythonOperator 】"
   ]
  },
  {
   "cell_type": "code",
   "execution_count": 18,
   "metadata": {},
   "outputs": [],
   "source": [
    "task_DISTINCT_ISSUED_AMOUNTS = PythonOperator(task_id = 'task_DISTINCT_ISSUED_AMOUNTS' ,\n",
    "                                              python_callable = DISTINCT_ISSUED_AMOUNTS ,\n",
    "                                              dag = dag)"
   ]
  },
  {
   "cell_type": "markdown",
   "metadata": {},
   "source": [
    "# DAGs"
   ]
  },
  {
   "cell_type": "code",
   "execution_count": 19,
   "metadata": {},
   "outputs": [
    {
     "data": {
      "text/plain": [
       "<Task(PythonOperator): task_DISTINCT_ISSUED_AMOUNTS>"
      ]
     },
     "execution_count": 19,
     "metadata": {},
     "output_type": "execute_result"
    }
   ],
   "source": [
    "task_CHECK_WORK_DATE >> task_NOT_TRADED_DATE\n",
    "task_CHECK_WORK_DATE >> task_GET_STOCK_CREDIT >> task_GET_OTC_CREDIT >> task_GET_STOCK_FI_SHAREHOLDING >> task_GET_STOCK_ISSUED_AMOUNTS >> task_DISTINCT_ISSUED_AMOUNTS"
   ]
  }
 ],
 "metadata": {
  "kernelspec": {
   "display_name": "Python 3",
   "language": "python",
   "name": "python3"
  },
  "language_info": {
   "codemirror_mode": {
    "name": "ipython",
    "version": 3
   },
   "file_extension": ".py",
   "mimetype": "text/x-python",
   "name": "python",
   "nbconvert_exporter": "python",
   "pygments_lexer": "ipython3",
   "version": "3.8.3"
  },
  "toc": {
   "base_numbering": 1,
   "nav_menu": {},
   "number_sections": true,
   "sideBar": true,
   "skip_h1_title": false,
   "title_cell": "Table of Contents",
   "title_sidebar": "Contents",
   "toc_cell": false,
   "toc_position": {
    "height": "calc(100% - 180px)",
    "left": "10px",
    "top": "150px",
    "width": "338.8px"
   },
   "toc_section_display": true,
   "toc_window_display": true
  }
 },
 "nbformat": 4,
 "nbformat_minor": 4
}
