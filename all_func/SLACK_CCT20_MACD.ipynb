{
 "cells": [
  {
   "cell_type": "code",
   "execution_count": 1,
   "metadata": {},
   "outputs": [],
   "source": [
    "import pandas\n",
    "import psycopg2\n",
    "import datetime\n",
    "import matplotlib.pyplot as plt\n",
    "import os\n",
    "\n",
    "\n",
    "conn = psycopg2.connect(host = '127.0.0.1' , dbname = 'postgres' , user = 'postgres' , password = 'mon3636a')\n",
    "cur = conn.cursor()\n",
    "pandas.set_option('display.max_rows',1000)\n",
    "plt.rcParams['font.sans-serif'] = ['Taipei Sans TC Beta']"
   ]
  },
  {
   "cell_type": "markdown",
   "metadata": {},
   "source": [
    "## Argument"
   ]
  },
  {
   "cell_type": "code",
   "execution_count": 2,
   "metadata": {},
   "outputs": [],
   "source": [
    "# 取最後交易日 , 讀取20日集中度報表\n",
    "max_date = pandas.read_sql(\"select max(date) as date from work_date \" , con = conn)['date'].iloc[0]\n",
    "\n",
    "# 最後近20天交易日\n",
    "date_list = tuple(pandas.read_sql(\"select * from work_date order by date desc limit 50\" , con = conn)['date_no'])"
   ]
  },
  {
   "cell_type": "markdown",
   "metadata": {},
   "source": [
    "## Create Folder"
   ]
  },
  {
   "cell_type": "code",
   "execution_count": 3,
   "metadata": {},
   "outputs": [],
   "source": [
    "try :\n",
    "    os.mkdir('/home/buneo/Stock/SLACK_REPORT/CCT20_SLACK/{}'.format(str(max_date)))\n",
    "except FileExistsError:\n",
    "    pass\n",
    "\n",
    "try :\n",
    "    os.mkdir('/home/buneo/Stock/SLACK_REPORT/CCT20_SLACK_MACD_GREEN/{}'.format(str(max_date)))\n",
    "except FileExistsError:\n",
    "    pass\n",
    "\n",
    "try :\n",
    "    os.mkdir('/home/buneo/Stock/SLACK_REPORT/CCT20_SLACK_C/{}'.format(str(max_date)))\n",
    "except FileExistsError:\n",
    "    pass\n",
    "\n",
    "try :\n",
    "    os.mkdir('/home/buneo/Stock/SLACK_REPORT/MACD_02/{}'.format(str(max_date)))\n",
    "except FileExistsError:\n",
    "    pass\n",
    "\n",
    "try :\n",
    "    os.mkdir('/home/buneo/Stock/SLACK_REPORT/MACD_24/{}'.format(str(max_date)))\n",
    "except FileExistsError:\n",
    "    pass"
   ]
  },
  {
   "cell_type": "markdown",
   "metadata": {},
   "source": [
    "## CCT20 - Normal"
   ]
  },
  {
   "cell_type": "code",
   "execution_count": 4,
   "metadata": {
    "scrolled": true
   },
   "outputs": [],
   "source": [
    "# 20日集中度報表\n",
    "cct20 = pandas.read_sql(\"select * from report.cct20_history where date ='{}'\".format(str(max_date)) , con = conn)\n",
    "\n",
    "# 20日集中度報表所有\"股票代號\"\n",
    "no_list = cct20['no'].tolist()"
   ]
  },
  {
   "cell_type": "code",
   "execution_count": 5,
   "metadata": {},
   "outputs": [],
   "source": [
    "for no in no_list:\n",
    "    \n",
    "    # 讀目前股票代號取近20日MACD\n",
    "    no_macd = pandas.read_sql(\"select cast(date as varchar(10)) as date , no , macd_bar , macd , (mema-nema) as DIF from ods.macd where date_no in {0} and no = '{1}' order by date\".format(date_list , no) , con = conn)\n",
    "    no_macd = no_macd.reset_index()\n",
    "    no_macd['color'] = no_macd.apply(lambda x : 'red' if x['macd_bar'] > 0 else 'green' , axis = 1)\n",
    "    no_macd['xticks'] = no_macd.apply(lambda x : x['date'] if ((x['index']+1) % 5 == 0 or x['index'] == 0) else \"\" , axis = 1)   \n",
    "    max_bar = no_macd['macd_bar'].abs().max()\n",
    "    \n",
    "    # 將20日集中度數值設定為變數\n",
    "    tmp = cct20[cct20['no'] == no]\n",
    "    cct20_no = tmp['no'].iloc[0]\n",
    "    cct20_name = tmp['name'].iloc[0]\n",
    "    cct20_date = tmp['date'].iloc[0]\n",
    "    \n",
    "    fig , ax = plt.subplots(1,1,figsize = (12,5))\n",
    "    ax.set_title('{0} ({1}) '.format(cct20_no , cct20_name) , fontsize = 20)\n",
    "    ax.set_ylim(-max_bar , max_bar)\n",
    "    ax.grid(which = 'major')\n",
    "    ax.bar(x = no_macd['date'] , height = no_macd['macd_bar'] , align = 'center' , color = no_macd['color'] )\n",
    "    plt.xticks(no_macd['xticks'])\n",
    "    plt.savefig('/home/buneo/Stock/SLACK_REPORT/CCT20_SLACK/{0}/{2}{1}.png'.format(max_date ,cct20_name , cct20_no))\n",
    "    plt.close()"
   ]
  },
  {
   "cell_type": "markdown",
   "metadata": {},
   "source": [
    "## CCT20 - Jheng"
   ]
  },
  {
   "cell_type": "code",
   "execution_count": 6,
   "metadata": {},
   "outputs": [],
   "source": [
    "# 20日集中度報表\n",
    "cct20 = pandas.read_sql(\"select * from report.cct20_history_c where date ='{}'\".format(str(max_date)) , con = conn)\n",
    "\n",
    "# 20日集中度報表所有\"股票代號\"\n",
    "no_list = cct20['no'].tolist()\n",
    "\n",
    "for no in no_list:\n",
    "    \n",
    "    # 讀目前股票代號取近20日MACD\n",
    "    no_macd = pandas.read_sql(\"select cast(date as varchar(10)) as date , no , macd_bar , macd , (mema-nema) as DIF from ods.macd where date_no in {0} and no = '{1}' order by date\".format(date_list , no) , con = conn)\n",
    "    no_macd = no_macd.reset_index()\n",
    "    no_macd['color'] = no_macd.apply(lambda x : 'red' if x['macd_bar'] > 0 else 'green' , axis = 1)\n",
    "    no_macd['xticks'] = no_macd.apply(lambda x : x['date'] if ((x['index']+1) % 5 == 0 or x['index'] == 0) else \"\" , axis = 1)   \n",
    "    max_bar = no_macd['macd_bar'].abs().max()\n",
    "    \n",
    "    # 將20日集中度數值設定為變數\n",
    "    tmp = cct20[cct20['no'] == no]\n",
    "    cct20_no = tmp['no'].iloc[0]\n",
    "    cct20_name = tmp['name'].iloc[0]\n",
    "    cct20_date = tmp['date'].iloc[0]\n",
    "    \n",
    "    fig , ax = plt.subplots(1,1,figsize = (12,5))\n",
    "    ax.set_title('{0} ({1})'.format(cct20_no , cct20_name) , fontsize = 20)\n",
    "    ax.set_ylim(-max_bar , max_bar)\n",
    "    ax.grid(which = 'major')\n",
    "    ax.bar(x = no_macd['date'] , height = no_macd['macd_bar'] , align = 'center' , color = no_macd['color'] )\n",
    "    plt.xticks(no_macd['xticks'])\n",
    "    plt.savefig('/home/buneo/Stock/SLACK_REPORT/CCT20_SLACK_C/{0}/{2}{1}.png'.format(max_date ,cct20_name, cct20_no))\n",
    "    plt.close()"
   ]
  },
  {
   "cell_type": "markdown",
   "metadata": {},
   "source": [
    "## MACD - Rising and OSC < 0"
   ]
  },
  {
   "cell_type": "code",
   "execution_count": 7,
   "metadata": {},
   "outputs": [
    {
     "name": "stderr",
     "output_type": "stream",
     "text": [
      "<ipython-input-7-b8bbd27c9724>:14: SettingWithCopyWarning: \n",
      "A value is trying to be set on a copy of a slice from a DataFrame\n",
      "\n",
      "See the caveats in the documentation: https://pandas.pydata.org/pandas-docs/stable/user_guide/indexing.html#returning-a-view-versus-a-copy\n",
      "  main['bigger'][i] = main['bigger'][i-1]+'Y'\n",
      "<ipython-input-7-b8bbd27c9724>:16: SettingWithCopyWarning: \n",
      "A value is trying to be set on a copy of a slice from a DataFrame\n",
      "\n",
      "See the caveats in the documentation: https://pandas.pydata.org/pandas-docs/stable/user_guide/indexing.html#returning-a-view-versus-a-copy\n",
      "  main['bigger'][i] = ''\n"
     ]
    }
   ],
   "source": [
    "cct20 = pandas.read_sql(\"select * from ods.cct20 where date ='{}'\".format(str(max_date)) , con = conn)\n",
    "\n",
    "macd = pandas.read_sql(\"select no , date_no from ods.macd where date = '{0}' and macd_bar < 0\".format(max_date) , con = conn)\n",
    "\n",
    "green_macd_no = macd['no'].tolist()\n",
    "date_no = macd['date_no'].unique()[0]-3\n",
    "\n",
    "main = pandas.read_sql(\"select * from ods.macd where date_no >= '{0}' and no in {1} order by no , date\".format(date_no,tuple(green_macd_no)), con = conn)\n",
    "main['bigger'] = ''\n",
    "\n",
    "for i in range(1,len(main)):#range(len(main)):\n",
    "    if main['no'][i] == main['no'][i-1] :\n",
    "        if main['macd_bar'][i] >= main['macd_bar'][i-1]:\n",
    "            main['bigger'][i] = main['bigger'][i-1]+'Y'\n",
    "    else :\n",
    "        main['bigger'][i] = ''\n",
    "\n",
    "rise_no = main[main['bigger'] == 'YYY'][['no']]\n",
    "no_5d = pandas.read_sql(\"select no , count(*) from (\\\n",
    "                             select no from stock_daily s join work_date d on s.date = d.date and d.date_no >= {0}\\\n",
    "                             union all \\\n",
    "                             select no from   otc_daily o join work_date d on o.date = d.date and d.date_no >= {0}) a\\\n",
    "                             group by no having count(*) = 5\".format(date_no) , con = conn)['no'].tolist()\n",
    "vol_1000 = pandas.read_sql(\"select no , avg(qty) from (select no , quantity qty from stock_daily s join work_date d on s.date = d.date and d.date_no >= {0} \\\n",
    "                                                       union all \\\n",
    "                                                       select no , quantity qty from   otc_daily o join work_date d on o.date = d.date and d.date_no >= {0} ) a \\\n",
    "                            group by no having avg(qty) >= 1000\".format(date_no) , con = conn)\n",
    "image_no = pandas.merge(left = rise_no , right = vol_1000 , on = 'no')\n",
    "\n",
    "price_no = pandas.read_sql(\"select date , no from ods.analyze_avg where date_no = '{0}' and close > sma60\".format(date_no+3) , con = conn)[['no']]\n",
    "\n",
    "image_no = pandas.merge(left = image_no , right = price_no , on = 'no')['no'].tolist()\n",
    "\n",
    "\n",
    "for no in image_no:\n",
    "\n",
    "    # 讀目前股票代號取近20日MACD\n",
    "    no_macd = pandas.read_sql(\"select cast(date as varchar(10)) as date , no , macd_bar , macd , (mema-nema) as DIF from ods.macd where date_no in {0} and no = '{1}' order by date\".format(date_list , no) , con = conn)\n",
    "    no_macd = no_macd.reset_index()\n",
    "    no_macd['color'] = no_macd.apply(lambda x : 'red' if x['macd_bar'] > 0 else 'green' , axis = 1)\n",
    "    no_macd['xticks'] = no_macd.apply(lambda x : x['date'] if ((x['index']+1) % 5 == 0 or x['index'] == 0) else \"\" , axis = 1)   \n",
    "    max_bar = no_macd['macd_bar'].abs().max()\n",
    "    \n",
    "    # 將20日集中度數值設定為變數\n",
    "    tmp = cct20[cct20['no'] == no]\n",
    "    cct20_no = tmp['no'].iloc[0]\n",
    "    cct20_name = pandas.read_sql(\"select no , name from stock_daily where date = '{0}' and no = '{1}' union select no , name from otc_daily where date = '{0}' and no = '{1}'\".format(max_date , no) , con = conn)['name'].iloc[0]\n",
    "    cct20_date = tmp['date'].iloc[0]\n",
    "    \n",
    "    fig , ax = plt.subplots(1,1,figsize = (12,5))\n",
    "    ax.set_title('{0} ({1})'.format(cct20_no , cct20_name) , fontsize = 20)\n",
    "    ax.set_ylim(-max_bar , max_bar)\n",
    "    ax.grid(which = 'major')\n",
    "    ax.bar(x = no_macd['date'] , height = no_macd['macd_bar'] , align = 'center' , color = no_macd['color'] )\n",
    "    plt.xticks(no_macd['xticks'])\n",
    "    plt.savefig('/home/buneo/Stock/SLACK_REPORT/CCT20_SLACK_MACD_GREEN/{0}/{2}{1}.png'.format(max_date ,cct20_name , cct20_no))\n",
    "    plt.close()"
   ]
  },
  {
   "cell_type": "markdown",
   "metadata": {},
   "source": [
    "## MACD - 0 >= OSC >= -2"
   ]
  },
  {
   "cell_type": "code",
   "execution_count": 8,
   "metadata": {},
   "outputs": [],
   "source": [
    "vol_600 = pandas.read_sql(\"select no , avg(qty) from (select no , quantity qty from stock_daily s join work_date d on s.date = d.date and d.date_no >= {0} \\\n",
    "                                                       union all \\\n",
    "                                                       select no , quantity qty from   otc_daily o join work_date d on o.date = d.date and d.date_no >= {0} ) a \\\n",
    "                            group by no having avg(qty) >= 600\".format(date_no) , con = conn)\n",
    "price_no = pandas.read_sql(\"select date , no from ods.analyze_avg where date = '{0}' and close > 15 and close < 300 \".format(max_date) , con = conn)[['no']]"
   ]
  },
  {
   "cell_type": "code",
   "execution_count": 9,
   "metadata": {},
   "outputs": [],
   "source": [
    "macd_02 = pandas.read_sql(\"select no , date_no from ods.macd where date = '{0}' and macd_bar <= 0 and macd_bar >= -2 \".format(max_date) , con = conn)\n",
    "macd_02 = pandas.merge(macd_02 , vol_600 , on = 'no')\n",
    "macd_02 = pandas.merge(macd_02 , price_no , on = 'no')['no'].tolist()\n",
    "\n",
    "for no in macd_02:\n",
    "\n",
    "    # 讀目前股票代號取近20日MACD\n",
    "    no_macd = pandas.read_sql(\"select cast(date as varchar(10)) as date , no , macd_bar , macd , (mema-nema) as DIF from ods.macd where date_no in {0} and no = '{1}' order by date\".format(date_list , no) , con = conn)\n",
    "    no_macd = no_macd.reset_index()\n",
    "    no_macd['color'] = no_macd.apply(lambda x : 'red' if x['macd_bar'] > 0 else 'green' , axis = 1)\n",
    "    no_macd['xticks'] = no_macd.apply(lambda x : x['date'] if ((x['index']+1) % 5 == 0 or x['index'] == 0) else \"\" , axis = 1)   \n",
    "    max_bar = no_macd['macd_bar'].abs().max()\n",
    "    \n",
    "    # 將20日集中度數值設定為變數\n",
    "    tmp = cct20[cct20['no'] == no]\n",
    "    cct20_no = tmp['no'].iloc[0]\n",
    "    cct20_name = pandas.read_sql(\"select no , name from stock_daily where date = '{0}' and no = '{1}' union select no , name from otc_daily where date = '{0}' and no = '{1}'\".format(max_date , no) , con = conn)['name'].iloc[0]\n",
    "    cct20_date = tmp['date'].iloc[0]\n",
    "    \n",
    "    fig , ax = plt.subplots(1,1,figsize = (12,5))\n",
    "    ax.set_title('{0} ({1})'.format(cct20_no , cct20_name) , fontsize = 20)\n",
    "    ax.set_ylim(-max_bar , max_bar)\n",
    "    ax.grid(which = 'major')\n",
    "    ax.bar(x = no_macd['date'] , height = no_macd['macd_bar'] , align = 'center' , color = no_macd['color'] )\n",
    "    plt.xticks(no_macd['xticks'])\n",
    "    plt.savefig('/home/buneo/Stock/SLACK_REPORT/MACD_02/{0}/{2}{1}.png'.format(max_date ,cct20_name , cct20_no))\n",
    "    plt.close()\n",
    "    "
   ]
  },
  {
   "cell_type": "markdown",
   "metadata": {},
   "source": [
    "## MACD - 2 >= OSC >= -4"
   ]
  },
  {
   "cell_type": "code",
   "execution_count": 10,
   "metadata": {},
   "outputs": [],
   "source": [
    "macd_24 = pandas.read_sql(\"select no , date_no from ods.macd where date = '{0}' and macd_bar <= -2 and macd_bar >= -4 \".format(max_date) , con = conn)\n",
    "macd_24 = pandas.merge(macd_24 , vol_600 , on = 'no')\n",
    "macd_24 = pandas.merge(macd_24 , price_no , on = 'no')['no'].tolist()\n",
    "\n",
    "for no in macd_24:\n",
    "\n",
    "    # 讀目前股票代號取近20日MACD\n",
    "    no_macd = pandas.read_sql(\"select cast(date as varchar(10)) as date , no , macd_bar , macd , (mema-nema) as DIF from ods.macd where date_no in {0} and no = '{1}' order by date\".format(date_list , no) , con = conn)\n",
    "    no_macd = no_macd.reset_index()\n",
    "    no_macd['color'] = no_macd.apply(lambda x : 'red' if x['macd_bar'] > 0 else 'green' , axis = 1)\n",
    "    no_macd['xticks'] = no_macd.apply(lambda x : x['date'] if ((x['index']+1) % 5 == 0 or x['index'] == 0) else \"\" , axis = 1)   \n",
    "    max_bar = no_macd['macd_bar'].abs().max()\n",
    "    \n",
    "    # 將20日集中度數值設定為變數\n",
    "    tmp = cct20[cct20['no'] == no]\n",
    "    cct20_no = tmp['no'].iloc[0]\n",
    "    cct20_name = pandas.read_sql(\"select no , name from stock_daily where date = '{0}' and no = '{1}' union select no , name from otc_daily where date = '{0}' and no = '{1}'\".format(max_date , no) , con = conn)['name'].iloc[0]\n",
    "    cct20_date = tmp['date'].iloc[0]\n",
    "    \n",
    "    fig , ax = plt.subplots(1,1,figsize = (12,5))\n",
    "    ax.set_title('{0} ({1})'.format(cct20_no , cct20_name) , fontsize = 20)\n",
    "    ax.set_ylim(-max_bar , max_bar)\n",
    "    ax.grid(which = 'major')\n",
    "    ax.bar(x = no_macd['date'] , height = no_macd['macd_bar'] , align = 'center' , color = no_macd['color'] )\n",
    "    plt.xticks(no_macd['xticks'])\n",
    "    plt.savefig('/home/buneo/Stock/SLACK_REPORT/MACD_24/{0}/{2}{1}.png'.format(max_date ,cct20_name , cct20_no))\n",
    "    plt.close()"
   ]
  }
 ],
 "metadata": {
  "kernelspec": {
   "display_name": "Python 3",
   "language": "python",
   "name": "python3"
  },
  "language_info": {
   "codemirror_mode": {
    "name": "ipython",
    "version": 3
   },
   "file_extension": ".py",
   "mimetype": "text/x-python",
   "name": "python",
   "nbconvert_exporter": "python",
   "pygments_lexer": "ipython3",
   "version": "3.8.3"
  },
  "toc": {
   "base_numbering": 1,
   "nav_menu": {},
   "number_sections": true,
   "sideBar": true,
   "skip_h1_title": false,
   "title_cell": "Table of Contents",
   "title_sidebar": "Contents",
   "toc_cell": false,
   "toc_position": {},
   "toc_section_display": true,
   "toc_window_display": true
  }
 },
 "nbformat": 4,
 "nbformat_minor": 4
}
