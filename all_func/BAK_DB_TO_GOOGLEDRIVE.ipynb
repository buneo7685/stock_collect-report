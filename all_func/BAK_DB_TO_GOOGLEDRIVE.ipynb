{
 "cells": [
  {
   "cell_type": "code",
   "execution_count": 1,
   "metadata": {},
   "outputs": [],
   "source": [
    "from google.oauth2.credentials import Credentials\n",
    "from google.auth.transport.requests import Request\n",
    "from google_auth_oauthlib.flow import InstalledAppFlow\n",
    "from googleapiclient.discovery import build\n",
    "from oauth2client import file , client , tools \n",
    "from oauth2client.service_account import ServiceAccountCredentials\n",
    "from googleapiclient.http import MediaFileUpload , MediaIoBaseUpload\n",
    "from airflow.models import Variable\n",
    "\n",
    "import os\n",
    "import re\n",
    "import datetime\n",
    "import json\n",
    "import requests\n",
    "import socket\n",
    "import zipfile\n",
    "socket.setdefaulttimeout(150)"
   ]
  },
  {
   "cell_type": "markdown",
   "metadata": {},
   "source": [
    "## Airflow Variable"
   ]
  },
  {
   "cell_type": "code",
   "execution_count": 2,
   "metadata": {},
   "outputs": [],
   "source": [
    "PATH_DATABASE_BACKUP = Variable.get('PATH_DATABASE_BACKUP')\n",
    "PATH_GOOGLEDRIVE_CREDS = Variable.get('PATH_GOOGLEDRIVE_CREDS')\n",
    "PATH_GOOGLEDRIVE_TOKEN = Variable.get('PATH_GOOGLEDRIVE_TOKEN')"
   ]
  },
  {
   "cell_type": "markdown",
   "metadata": {},
   "source": [
    "## Self Definited Variable"
   ]
  },
  {
   "cell_type": "code",
   "execution_count": 3,
   "metadata": {},
   "outputs": [],
   "source": [
    "# backup file variables\n",
    "BACKUP_DATE = str(datetime.date.today()).replace('-','')\n",
    "DATABASE_NAME = 'postgres'\n",
    "BACKUP_USER = 'stockbuneo'\n",
    "BACKUP_FILE_NAME = 'DB_Stock'\n",
    "\n",
    "# upload google drive variables\n",
    "TARGET_FOLDER = ['DB_STOCK_BAK']"
   ]
  },
  {
   "cell_type": "markdown",
   "metadata": {},
   "source": [
    "PAGESIZE = lambda x : 10 if x == None else len(x)"
   ]
  },
  {
   "cell_type": "code",
   "execution_count": 4,
   "metadata": {},
   "outputs": [],
   "source": [
    "def CREATE_BACKUP_FILE( PATH_DATABASE_BACKUP , BACKUP_DATE , DATABASE_NAME , BACKUP_USER , BACKUP_FILE_NAME ):\n",
    "    \n",
    "    FILE_NAME = f'{BACKUP_FILE_NAME}_{BACKUP_DATE}'\n",
    "    #Create backup file\n",
    "    os.system(f\"\"\"pg_dump {DATABASE_NAME} -U {BACKUP_USER} -f {PATH_DATABASE_BACKUP}/{FILE_NAME}.sql\"\"\")\n",
    "    \n",
    "    #Add to Zipfile\n",
    "    zf = zipfile.ZipFile(f'{PATH_DATABASE_BACKUP}/{FILE_NAME}.zip' , 'w' , zipfile.ZIP_DEFLATED)\n",
    "    zf.write(f'{PATH_DATABASE_BACKUP}/{FILE_NAME}.sql')\n",
    "    \n",
    "    #Delete sql type of backup file\n",
    "    os.remove(f'{PATH_DATABASE_BACKUP}/{FILE_NAME}.sql')\n",
    "    \n",
    "    print(f'Backup File Finished , Path : {PATH_DATABASE_BACKUP}/{BACKUP_FILE_NAME}_{BACKUP_DATE}.zip')\n",
    "    return FILE_NAME"
   ]
  },
  {
   "cell_type": "code",
   "execution_count": 5,
   "metadata": {},
   "outputs": [],
   "source": [
    "def DELETE_PAST_BACKUPFILE(PATH_DATABASE_BACKUP) :\n",
    "    \n",
    "    CLEAN_DIRLIST = []\n",
    "    BAKFOLDER_PRENAME = ''    \n",
    "    \n",
    "    DIRLIST = os.listdir(PATH_DATABASE_BACKUP)\n",
    "    \n",
    "    for dir_name in DIRLIST:\n",
    "        CLEAN_DIRLIST.append(dir_name[-12:])\n",
    "        BAKFOLDER_PRENAME = dir_name[:-12]\n",
    "    \n",
    "    CLEAN_DIRLIST.sort(reverse = True)\n",
    "    CLEAN_DIRLIST = CLEAN_DIRLIST[2:]\n",
    "    \n",
    "    print('Delet Files List\\n---------------------------------')\n",
    "    \n",
    "    for del_date in CLEAN_DIRLIST:\n",
    "        os.remove(f'{PATH_DATABASE_BACKUP}/{BAKFOLDER_PRENAME}{del_date}')\n",
    "        print(f'{PATH_DATABASE_BACKUP}/{BAKFOLDER_PRENAME}{del_date}')\n",
    "        \n",
    "    print('---------------------------------')\n",
    "    print(f'Delete {len(CLEAN_DIRLIST)} Expired Files')"
   ]
  },
  {
   "cell_type": "code",
   "execution_count": 6,
   "metadata": {},
   "outputs": [],
   "source": [
    "def CONNECT_SERVICE( PATH_GOOGLEDRIVE_CREDS , PATH_GOOGLEDRIVE_TOKEN ):\n",
    "    \n",
    "    SCOPES = 'https://www.googleapis.com/auth/drive'   \n",
    "    creds = None    \n",
    "    \n",
    "    if os.path.exists(PATH_GOOGLEDRIVE_TOKEN):\n",
    "        creds = Credentials.from_authorized_user_file(PATH_GOOGLEDRIVE_TOKEN)\n",
    "        \n",
    "    if not creds or not creds.valid:\n",
    "        \n",
    "        if (creds and creds.expired and creds.refresh_token) :\n",
    "            creds.refresh(Request())\n",
    "\n",
    "        else :\n",
    "            flow = InstalledAppFlow.from_client_secrets_file(PATH_GOOGLEDRIVE_CREDS, SCOPES)\n",
    "            creds = flow.run_local_server(port=0)\n",
    "            \n",
    "            token = open(PATH_GOOGLEDRIVE_TOKEN,'w')\n",
    "            token.write(creds.to_json())\n",
    "            \n",
    "    service = build('drive', 'v3',credentials = creds )\n",
    "    \n",
    "    return service"
   ]
  },
  {
   "cell_type": "code",
   "execution_count": 7,
   "metadata": {},
   "outputs": [],
   "source": [
    "def GET_PARENTID(service , TARGET_FOLDER = None):\n",
    "    \n",
    "    PAGESIZE = lambda x : 10 if x == None else len(x)\n",
    "    \n",
    "    q = \"(\"\n",
    "    for n , target in enumerate(TARGET_FOLDER):\n",
    "        if n == 0:\n",
    "            text = f\"name = '{target}'\"\n",
    "            q = q + text\n",
    "        else :\n",
    "            text = f\" or name = '{target}'\"\n",
    "            q = q + text\n",
    "    q = q + \") and trashed = False \"   \n",
    "\n",
    "    results = service.files().list(pageSize = PAGESIZE(TARGET_FOLDER) , fields = \"nextPageToken, files(id,name)\" ,\n",
    "                                   q = q).execute()\n",
    "\n",
    "    items = results.get('files', [])\n",
    "    if not items:     \n",
    "        print('No files found.') \n",
    "\n",
    "    return items"
   ]
  },
  {
   "cell_type": "code",
   "execution_count": 10,
   "metadata": {},
   "outputs": [],
   "source": [
    "def UPLOAD_FILE(service , items , PATH_DATABASE_BACKUP , FILE_NAME):   \n",
    "       \n",
    "        full_path = f'{PATH_DATABASE_BACKUP}/{FILE_NAME}.zip'\n",
    "\n",
    "        print(full_path)\n",
    "        mime = 'application/zip'\n",
    "        file_matadata = {'name' : f'{BACKUP_FILE_NAME}_{BACKUP_DATE}.zip' , \n",
    "                         'parents' : items[0]['id'] }\n",
    "        \n",
    "        media = MediaFileUpload(full_path,)\n",
    "        \n",
    "        service.files().create(body = file_matadata , media_body = media ,fields = 'id' ).execute()\n",
    "        print(\"File Upload Success\")"
   ]
  },
  {
   "cell_type": "code",
   "execution_count": 11,
   "metadata": {},
   "outputs": [
    {
     "name": "stdout",
     "output_type": "stream",
     "text": [
      "[2021-11-07 21:14:44,265] {__init__.py:49} INFO - file_cache is only supported with oauth2client<4.0.0\n",
      "/home/buneo/Stock/Database_backup/DB_Stock_20211107.zip\n",
      "File Upload Success\n"
     ]
    }
   ],
   "source": [
    "if __name__ == '__main__':\n",
    "    FILE_NAME = CREATE_BACKUP_FILE( PATH_DATABASE_BACKUP , BACKUP_DATE , DATABASE_NAME , BACKUP_USER , BACKUP_FILE_NAME )\n",
    "    DELETE_PAST_BACKUPFILE(PATH_DATABASE_BACKUP)\n",
    "    service = CONNECT_SERVICE(PATH_GOOGLEDRIVE_CREDS , PATH_GOOGLEDRIVE_TOKEN )\n",
    "    items = GET_PARENTID(service , TARGET_FOLDER = TARGET_FOLDER)\n",
    "    UPLOAD_FILE(service , items , PATH_DATABASE_BACKUP , FILE_NAME)"
   ]
  }
 ],
 "metadata": {
  "kernelspec": {
   "display_name": "Python 3",
   "language": "python",
   "name": "python3"
  },
  "language_info": {
   "codemirror_mode": {
    "name": "ipython",
    "version": 3
   },
   "file_extension": ".py",
   "mimetype": "text/x-python",
   "name": "python",
   "nbconvert_exporter": "python",
   "pygments_lexer": "ipython3",
   "version": "3.8.3"
  },
  "toc": {
   "base_numbering": 1,
   "nav_menu": {},
   "number_sections": true,
   "sideBar": true,
   "skip_h1_title": false,
   "title_cell": "Table of Contents",
   "title_sidebar": "Contents",
   "toc_cell": false,
   "toc_position": {},
   "toc_section_display": true,
   "toc_window_display": false
  }
 },
 "nbformat": 4,
 "nbformat_minor": 4
}
